{
 "cells": [
  {
   "cell_type": "markdown",
   "metadata": {},
   "source": [
    "The 5 parts of an A/B test are:\n",
    "\n",
    "1. Find A and B, the two versions of something that will be compared\n",
    "2. Get a sample to administer the test to\n",
    "3. Form a hypothesis about the outcome\n",
    "4. Choose a key metric to measure\n",
    "5. Take into account other variables"
   ]
  },
  {
   "cell_type": "markdown",
   "metadata": {},
   "source": [
    "Suggest an A/B experiment for the following questions:\n",
    "Does a new supplement help people sleep better?\n",
    "Will new uniforms help a gym's business?\n",
    "Will a new homepage improve my online exotic pet rental business?\n",
    "If I put 'please read' in the email subject will more people read my emails?"
   ]
  },
  {
   "cell_type": "markdown",
   "metadata": {},
   "source": [
    "### For the sleep supplement experiment \n",
    "1. A will be the current supplement, and B will be the new supplement.\n",
    "2. The sample space will be the people who take a supplement to help with sleep, and we will randomly select who will get supplement A, and who will get supplement B.\n",
    "3. Our hypothesis will be that the new supplement will work better than the old one\n",
    "4. The key metric for this experiment will be whatever sleep related thing the supplement is supposed to help with. Perhaps it will be the length of time each subject sleeps. It could also be a self reported sense of how they feel, or even an analysis of their brain, but that's probably infeasible.\n",
    "5. Other measurable variables that could affect the experimental result could be the age, gender, weight, or health of the participants, but since \"sleep quality\" is such a vague thing to measure, the experts at the company who are asking for this experiment, or a sleep expert are really the ones you should ask about what other variables to keep track of, since there are so many other things that could potentially have an impact on the quality of ones sleep. Which again brings up the question of what specifically the supplement is supposed to accomplish (make it easier to fall asleep? help you sleep longer (so you don't keep waking up in the middle of the night)?\n"
   ]
  },
  {
   "cell_type": "markdown",
   "metadata": {},
   "source": [
    "### For the new uniforms experiment\n",
    "1. A will be the old uniform, B will be the new uniform\n",
    "2. The sample space will consist of the gym's customers and visitors. For some time period, maybe a month, the gym staff will wear each uniform, and then the amount of business done (since the ultimate goal is to increase sales) will be recorded\n",
    "3. The hypothesis will be that using the new uniform will generate enough revenue to make a profit for the gym\n",
    "4. I would guess that the key metric would be new memberships purchased at the gym, but it could also be the total number of memberships at the gym at the time (since the experiment will be done over time). We could also measure retention and see if a different uniform also helps retention (that's why you could potentially just look at the total number of gym members, every 2 weeks, maybe, and compare them over time to see the change in the number of gym members during the time period the trainers wore uniform A or B) \n",
    "5. Don't run this experiment during new years... but really the time of year is pretty important probably, the age, weight, income level, etc of customers could also be correlated (i.e. even if there is a significantly higher number of gym sign ups with the new uniform, it could just be coincidence that the new sign ups happened while the staff were wearing the uniform)\n"
   ]
  },
  {
   "cell_type": "markdown",
   "metadata": {},
   "source": [
    "### For the pet rental homepage experiment\n",
    "1. A will be the old website homepage, and B will be the new homepage\n",
    "2. The sample will consist of the visitors to the website\n",
    "3. Our hypothesis is that the new homepage will increases sales\n",
    "4. Our key metric will be the number of sales made to visitors who saw each homepage\n",
    "5. The trick to this experiment would be to give the experiment a long enough time period since probably not many people visit this website in the first place (exotic pet owners are probably just as exotic as exotic pets), so if the time period for the test was short then it might not give significant results, even if there was a real difference. Maybe it just becomes a significant difference after 3 months instead of 1 month "
   ]
  },
  {
   "cell_type": "markdown",
   "metadata": {},
   "source": [
    "### For the email notification experiment\n",
    "1. A will be just the normal email subject, while B will be the email subject with the \"Please read-\" prefix\n",
    "2. The sample will consist of the people you send emails to (it could be hard to get a big enough sample size if it's just people you personally know)\n",
    "3. The hypothesis is that if we put \"Please read-\" at the beginning of the email subject, more people will read the email (or they will read it sooner than they would normally if the prefix wasn't present)\n",
    "4. The key metric for this experiment should probably be the amount of time between the email being sent, and the email being opened by the recipient \n",
    "5. Time of year could be important, the purpose of the email, and the rest of the subject line could also be important. The rest really just depends on the sample. I keep thinking of this experiment as being done by an individual with the people he knows, which isn't a good experiment to do because his sample is not very good. We would have to send the same email to large numbers of people, for the same purpose, with the same contents, and see how quickly people from the A group and B group open their emails. "
   ]
  }
 ],
 "metadata": {
  "kernelspec": {
   "display_name": "Python 3",
   "language": "python",
   "name": "python3"
  },
  "language_info": {
   "codemirror_mode": {
    "name": "ipython",
    "version": 3
   },
   "file_extension": ".py",
   "mimetype": "text/x-python",
   "name": "python",
   "nbconvert_exporter": "python",
   "pygments_lexer": "ipython3",
   "version": "3.6.4"
  }
 },
 "nbformat": 4,
 "nbformat_minor": 2
}
