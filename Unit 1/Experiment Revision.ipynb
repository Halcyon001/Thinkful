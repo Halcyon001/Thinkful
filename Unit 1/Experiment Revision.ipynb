{
 "cells": [
  {
   "cell_type": "markdown",
   "metadata": {},
   "source": [
    "The Sith Lords are concerned that their recruiting slogan, \"Give In to Your Anger,\" isn't very effective. Darth Vader develops an alternative slogan, \"Together We Can Rule the Galaxy.\" They compare the slogans on two groups of 50 captured droids each. In one group, Emperor Palpatine delivers the \"Anger\" slogan. In the other, Darth Vader presents the \"Together\" slogan. "
   ]
  },
  {
   "cell_type": "markdown",
   "metadata": {},
   "source": [
    "The problem the Sith Lords of the modern day are facing is recruiting people to the Dark Side. It's important for the continued military presence of the Dark Side that they continue to produce Sith Lords. We have reason to believe that effective advertising will increase the recruitment rate of prospective Sith Lords. Changing the current tagline to a more effective slogan will increase Sith proselytization rates by appealing more broadly to the populace. \n",
    "\n",
    "In order to compare slogans, we will expose two sample groups to two different slogans. The slogan will be presented in the exact same manner by the same person. This will ensure that the only variable is the slogan itself. Each audience will be composed of a random selection of prisoners from different planets across the galaxy. We recognize that since they are captives, they may be more likely to convert to Sith teachings regardless of the slogan, but since all worlds are going to be conquered anyway, we believe that there isn't a big difference between the captives and the denizens of the rest of the galaxy. Thus, the only variables will be the sample selection, and the slogan."
   ]
  }
 ],
 "metadata": {
  "kernelspec": {
   "display_name": "Python 3",
   "language": "python",
   "name": "python3"
  },
  "language_info": {
   "codemirror_mode": {
    "name": "ipython",
    "version": 3
   },
   "file_extension": ".py",
   "mimetype": "text/x-python",
   "name": "python",
   "nbconvert_exporter": "python",
   "pygments_lexer": "ipython3",
   "version": "3.6.4"
  }
 },
 "nbformat": 4,
 "nbformat_minor": 2
}
