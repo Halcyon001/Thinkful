{
 "cells": [
  {
   "cell_type": "code",
   "execution_count": 1,
   "metadata": {},
   "outputs": [],
   "source": [
    "import numpy as np\n",
    "import pandas as pd\n",
    "import matplotlib.pyplot as plt\n",
    "import seaborn as sns"
   ]
  },
  {
   "cell_type": "code",
   "execution_count": 18,
   "metadata": {},
   "outputs": [
    {
     "name": "stdout",
     "output_type": "stream",
     "text": [
      "Index(['PMID/PMCID', 'Publisher', 'Journal title', 'Article title',\n",
      "       'COST (£) charged to Wellcome (inc VAT when charged)'],\n",
      "      dtype='object')\n",
      "              PMID/PMCID Publisher           Journal title  \\\n",
      "0                    NaN       CUP  Psychological Medicine   \n",
      "1             PMC3679557       ACS       Biomacromolecules   \n",
      "2  23043264  PMC3506128        ACS              J Med Chem   \n",
      "3    23438330 PMC3646402       ACS              J Med Chem   \n",
      "4   23438216 PMC3601604        ACS              J Org Chem   \n",
      "\n",
      "                                       Article title  \\\n",
      "0  Reduced parahippocampal cortical thickness in ...   \n",
      "1  Structural characterization of a Model Gram-ne...   \n",
      "2  Fumaroylamino-4,5-epoxymorphinans and related ...   \n",
      "3  Orvinols with mixed kappa/mu opioid receptor a...   \n",
      "4  Regioselective opening of myo-inositol orthoes...   \n",
      "\n",
      "  COST (£) charged to Wellcome (inc VAT when charged)  \n",
      "0                                              £0.00   \n",
      "1                                           £2381.04   \n",
      "2                                            £642.56   \n",
      "3                                            £669.64   \n",
      "4                                            £685.88   \n"
     ]
    }
   ],
   "source": [
    "df = pd.read_csv('WELLCOME/WELLCOME_APCspend2013_forThinkful.csv', encoding='ansi')\n",
    "\n",
    "print(df.columns)\n",
    "print(df.head())"
   ]
  },
  {
   "cell_type": "code",
   "execution_count": 52,
   "metadata": {},
   "outputs": [
    {
     "name": "stdout",
     "output_type": "stream",
     "text": [
      "['pmid', 'publisher', 'journal', 'article', 'cost']\n"
     ]
    }
   ],
   "source": [
    "colnames = []\n",
    "\n",
    "for item in df.columns:\n",
    "    firstword = ''\n",
    "    for char in item:\n",
    "            if char.isalnum():\n",
    "                firstword += char\n",
    "            else:\n",
    "                break\n",
    "    colnames.append(firstword.lower())"
   ]
  },
  {
   "cell_type": "code",
   "execution_count": 53,
   "metadata": {},
   "outputs": [
    {
     "name": "stdout",
     "output_type": "stream",
     "text": [
      "                    pmid publisher                 journal  \\\n",
      "0                    NaN       CUP  Psychological Medicine   \n",
      "1             PMC3679557       ACS       Biomacromolecules   \n",
      "2  23043264  PMC3506128        ACS              J Med Chem   \n",
      "3    23438330 PMC3646402       ACS              J Med Chem   \n",
      "4   23438216 PMC3601604        ACS              J Org Chem   \n",
      "\n",
      "                                             article      cost  \n",
      "0  Reduced parahippocampal cortical thickness in ...     £0.00  \n",
      "1  Structural characterization of a Model Gram-ne...  £2381.04  \n",
      "2  Fumaroylamino-4,5-epoxymorphinans and related ...   £642.56  \n",
      "3  Orvinols with mixed kappa/mu opioid receptor a...   £669.64  \n",
      "4  Regioselective opening of myo-inositol orthoes...   £685.88  \n"
     ]
    }
   ],
   "source": [
    "df.columns = colnames\n",
    "\n",
    "print(df.head(5))"
   ]
  },
  {
   "cell_type": "markdown",
   "metadata": {},
   "source": [
    "# 1. determine the five most common journals and the total articles for each."
   ]
  },
  {
   "cell_type": "code",
   "execution_count": 114,
   "metadata": {},
   "outputs": [
    {
     "name": "stdout",
     "output_type": "stream",
     "text": [
      "plos one                                                                 190\n",
      "journal of biological chemistry                                           53\n",
      "neuroimage                                                                29\n",
      "plos pathogens                                                            24\n",
      "plos genetics                                                             24\n",
      "nucleic acids research                                                    23\n",
      "proceedings of the national academy of sciences                           20\n",
      "plos neglected tropical diseases                                          20\n",
      "nature communications                                                     19\n",
      "human molecular genetics                                                  19\n",
      "brain                                                                     14\n",
      "bmc public health                                                         14\n",
      "movement disorders                                                        13\n",
      "journal of neuroscience                                                   12\n",
      "biochemical journal                                                       12\n",
      "developmental cell                                                        12\n",
      "journal of general virology                                               11\n",
      "current biology                                                           11\n",
      "bmj                                                                       10\n",
      "neuron                                                                     9\n",
      "plos computational biology                                                 9\n",
      "plosone                                                                    9\n",
      "bmj open                                                                   9\n",
      "cell reports                                                               9\n",
      "journal of clinical endocrinology and metabolism                           8\n",
      "malaria journal                                                            8\n",
      "proceedings of the royal society b: biological sciences                    8\n",
      "hepatology                                                                 8\n",
      "journal of physiology                                                      8\n",
      "journal of cell science                                                    8\n",
      "                                                                        ... \n",
      "mcp (molecular & cellular proteomics)                                      1\n",
      "the journal of cognitive neuroscience                                      1\n",
      "molecular pain                                                             1\n",
      "lancet infect dis                                                          1\n",
      "bmc microbiology                                                           1\n",
      "database                                                                   1\n",
      "acta physiol                                                               1\n",
      "journal of alzheimer disease                                               1\n",
      "reproductive sciences                                                      1\n",
      "international journal of parasitology                                      1\n",
      "plos medicine journal                                                      1\n",
      "american journal of medical genetics part a                                1\n",
      "computational biology                                                      1\n",
      "plos  computational biology                                                1\n",
      "american society for nutrition                                             1\n",
      "journal of bioenergetics and biomembranes                                  1\n",
      "mol bio                                                                    1\n",
      "cognitive therapy and research                                             1\n",
      "frontiers in consciousness research                                        1\n",
      "international journal of law in context                                    1\n",
      "muscle and nerve                                                           1\n",
      "nature neuroscience                                                        1\n",
      "development science                                                        1\n",
      "stem cell reports                                                          1\n",
      "international journal of applied earth observation and geoinformation      1\n",
      "european journal of english studies                                        1\n",
      "philos trans r soc london b biol sci                                       1\n",
      "acta crystallographica section d: biological crystallography               1\n",
      "american journal of pathology                                              1\n",
      "journal of virol                                                           1\n",
      "Name: journal, Length: 929, dtype: int64\n"
     ]
    }
   ],
   "source": [
    "dirty_counts = df['journal'].value_counts()\n",
    "print(dirty_counts)"
   ]
  },
  {
   "cell_type": "code",
   "execution_count": 40,
   "metadata": {},
   "outputs": [
    {
     "name": "stdout",
     "output_type": "stream",
     "text": [
      "Index(['PLoS One', 'PLoS ONE', 'Journal of Biological Chemistry',\n",
      "       'Nucleic Acids Research',\n",
      "       'Proceedings of the National Academy of Sciences',\n",
      "       'Human Molecular Genetics', 'PLoS Neglected Tropical Diseases',\n",
      "       'Nature Communications', 'Neuroimage', 'PLoS Pathogens',\n",
      "       ...\n",
      "       'Frontiers in Systems Neuroscience', 'Bioscience Reports',\n",
      "       'Acta Neuropathol', 'Biologicial Chemistry', 'CHEST', 'Math Biosci',\n",
      "       'Journal of Inherited Metabolic', 'Veterinary Research',\n",
      "       'International Psychogeriatrics', 'Calcified Tissue International'],\n",
      "      dtype='object', length=984)\n"
     ]
    }
   ],
   "source": [
    "print(dirty_counts.keys())"
   ]
  },
  {
   "cell_type": "code",
   "execution_count": 116,
   "metadata": {},
   "outputs": [
    {
     "name": "stdout",
     "output_type": "stream",
     "text": [
      "['plos one', 'journal of biological chemistry', 'neuroimage', 'plos pathogens', 'plos genetics']\n",
      "[190, 53, 29, 24, 24]\n"
     ]
    }
   ],
   "source": [
    "#this cell creates 2 lists, and copies the names of each journal and the number of articles for each one\n",
    "#each journal name and the number of articles for that journal have the same index in each list \n",
    "#i.e. journalnames[i] and counts[i] contain the associated values\n",
    "journalnames = []\n",
    "counts = []\n",
    "\n",
    "x = 0\n",
    "while x < len(dirty_counts):\n",
    "    if dirty_counts.keys()[x].lower() not in journalnames:#if the journal name is not in the empty list \n",
    "        journalnames.append(dirty_counts.keys()[x].lower())#add the journal name\n",
    "        counts.append(dirty_counts[x])#and add the associated count\n",
    "    else:#if the journal name is already in the list\n",
    "        counts[journalnames.index(dirty_counts.keys()[x].lower())] += dirty_counts[x]#add the number of articles to the existing number \n",
    "    x+=1    \n",
    "print(journalnames[:5])\n",
    "print(counts[:5])"
   ]
  },
  {
   "cell_type": "code",
   "execution_count": 104,
   "metadata": {},
   "outputs": [],
   "source": [
    "def find_n_max(names, counts, n):\n",
    "        maxnames = []\n",
    "        maxcounts = []\n",
    "        x = 0\n",
    "        while x < n:\n",
    "            maxindex = counts.index(max(counts))\n",
    "            maxnames.append(names.pop(maxindex))\n",
    "            maxcounts.append(counts.pop(maxindex))\n",
    "            x+=1\n",
    "        return pd.Series(data=maxcounts, index=maxnames)"
   ]
  },
  {
   "cell_type": "code",
   "execution_count": 105,
   "metadata": {},
   "outputs": [
    {
     "name": "stdout",
     "output_type": "stream",
     "text": [
      "plos one                           190\n",
      "journal of biological chemistry     53\n",
      "neuroimage                          29\n",
      "plos pathogens                      24\n",
      "plos genetics                       24\n",
      "dtype: int64\n"
     ]
    }
   ],
   "source": [
    "print(find_n_max(journalnames, counts, 5))"
   ]
  },
  {
   "cell_type": "markdown",
   "metadata": {},
   "source": [
    "# Next, calculate the mean, median, and standard deviation of the open-access cost per article for each journal "
   ]
  },
  {
   "cell_type": "markdown",
   "metadata": {},
   "source": [
    "Cost per article of each journal = create a dataset made up of datapoints = total costs/total number of articles for each journal, then calculate central tendency for that dataset"
   ]
  },
  {
   "cell_type": "code",
   "execution_count": 106,
   "metadata": {},
   "outputs": [
    {
     "name": "stdout",
     "output_type": "stream",
     "text": [
      "                    pmid publisher                 journal  \\\n",
      "0                    NaN       CUP  psychological medicine   \n",
      "1             PMC3679557       ACS       biomacromolecules   \n",
      "2  23043264  PMC3506128        ACS              j med chem   \n",
      "3    23438330 PMC3646402       ACS              j med chem   \n",
      "4   23438216 PMC3601604        ACS              j org chem   \n",
      "\n",
      "                                             article     cost  \n",
      "0  Reduced parahippocampal cortical thickness in ...     0.00  \n",
      "1  Structural characterization of a Model Gram-ne...  2381.04  \n",
      "2  Fumaroylamino-4,5-epoxymorphinans and related ...   642.56  \n",
      "3  Orvinols with mixed kappa/mu opioid receptor a...   669.64  \n",
      "4  Regioselective opening of myo-inositol orthoes...   685.88  \n"
     ]
    }
   ],
   "source": [
    "print(df.head(5))"
   ]
  },
  {
   "cell_type": "code",
   "execution_count": 107,
   "metadata": {},
   "outputs": [],
   "source": [
    "#strip the cost strings and remove the currency symbols at the beginning and at the end\n",
    "x=0\n",
    "while x < len(df.index):\n",
    "    df.cost[x] = df.cost[x].strip()#just in case theres any stray white space\n",
    "    if not df.cost[x][0].isdigit():\n",
    "        df.cost[x] = df.cost[x][1:]\n",
    "    elif not df.cost[x][-1].isdigit():\n",
    "        df.cost[x] = df.cost[x][:-1]\n",
    "    df.cost[x] = df.cost[x].strip()\n",
    "    x+=1"
   ]
  },
  {
   "cell_type": "code",
   "execution_count": 108,
   "metadata": {},
   "outputs": [],
   "source": [
    "def lowercase(x):\n",
    "    return str(x).lower()\n",
    "df.journal = df.journal.apply(lowercase)"
   ]
  },
  {
   "cell_type": "markdown",
   "metadata": {},
   "source": [
    "Cost per article of each journal = create a dataset made up of datapoints = total costs/total number of articles for each journal, then calculate central tendency for that dataset\n",
    "\n",
    "We already have the total number of articles for each journal in the \"journalnames\" and \"counts\" arrays from the previous question. So we just need the total costs for each journal, then we can divide each one. Let's just repeat the process from the previous question but with the costs and create another array that's also lined up with journalnames and counts"
   ]
  },
  {
   "cell_type": "code",
   "execution_count": 117,
   "metadata": {},
   "outputs": [
    {
     "name": "stdout",
     "output_type": "stream",
     "text": [
      "['plos one', 'journal of biological chemistry', 'neuroimage', 'plos pathogens', 'plos genetics']\n",
      "[190, 53, 29, 24, 24]\n"
     ]
    }
   ],
   "source": [
    "#this cell creates 2 lists, and copies the names of each journal and the number of articles for each one\n",
    "#each journal name and the number of articles for that journal have the same index in each list \n",
    "#i.e. journalnames[i] and counts[i] contain the associated values\n",
    "journalnames = []\n",
    "counts = []\n",
    "\n",
    "x = 0\n",
    "while x < len(dirty_counts):\n",
    "    if dirty_counts.keys()[x].lower() not in journalnames:#if the journal name is not in the empty list \n",
    "        journalnames.append(dirty_counts.keys()[x].lower())#add the journal name\n",
    "        counts.append(dirty_counts[x])#and add the associated count\n",
    "    else:#if the journal name is already in the list\n",
    "        counts[journalnames.index(dirty_counts.keys()[x].lower())] += dirty_counts[x]#add the number of articles\n",
    "    x+=1    \n",
    "print(journalnames[:5])\n",
    "print(counts[:5])\n",
    "\n",
    "#I ended up having to rerun this cell because I realized my implementation for the previous question POPS the journal names\n",
    "#out of the list..."
   ]
  },
  {
   "cell_type": "code",
   "execution_count": 121,
   "metadata": {},
   "outputs": [
    {
     "name": "stdout",
     "output_type": "stream",
     "text": [
      "[7362745.359999999, 1074025.5999999999, 64239.880000000005, 2028601.0700000003, 2036146.44]\n"
     ]
    }
   ],
   "source": [
    "totalcosts = []\n",
    "#we need to fill up costs with values so that we can replace the correct indexes, we can't just append each cost\n",
    "#the journals might not be in the same order as last time we made arrays like this\n",
    "x=0\n",
    "while x < len(journalnames):\n",
    "    totalcosts.append(0)\n",
    "    x+=1\n",
    "#we already have all of the journal names listed in journalnames, so no need to make an array of journal names again\n",
    "#just append the values in the right places\n",
    "x = 0\n",
    "while x < len(df.index):\n",
    "    ind = journalnames.index(df.journal[x])\n",
    "    totalcosts[ind] += float(df.cost[x])\n",
    "    x+=1    \n",
    "print(totalcosts[:5])"
   ]
  },
  {
   "cell_type": "code",
   "execution_count": 123,
   "metadata": {},
   "outputs": [
    {
     "name": "stdout",
     "output_type": "stream",
     "text": [
      "[38751.29136842105, 20264.63396226415, 2215.168275862069, 84525.04458333335, 84839.435]\n"
     ]
    }
   ],
   "source": [
    "costperarticle = []\n",
    "#journalnames, names of journals\n",
    "#counts, number of articles\n",
    "#totalcosts, sum of article costs\n",
    "\n",
    "x=0\n",
    "while x < len(journalnames):\n",
    "    costperarticle.append(totalcosts[x]/counts[x])\n",
    "    x+=1\n",
    "print(costperarticle[:5])"
   ]
  },
  {
   "cell_type": "code",
   "execution_count": 126,
   "metadata": {},
   "outputs": [
    {
     "name": "stdout",
     "output_type": "stream",
     "text": [
      "Avg cost per article: 21096.350030659018\n",
      "Median cost per article: 1982.35\n",
      "Standard Deviation of the costs per article: 120696.93704291758\n"
     ]
    }
   ],
   "source": [
    "print('Avg cost per article: ' + str(np.mean(costperarticle)))\n",
    "print('Median cost per article: ' +  str(np.median(costperarticle)))\n",
    "print('Standard Deviation of the costs per article: ' + str(np.std(costperarticle)))"
   ]
  }
 ],
 "metadata": {
  "kernelspec": {
   "display_name": "Python 3",
   "language": "python",
   "name": "python3"
  },
  "language_info": {
   "codemirror_mode": {
    "name": "ipython",
    "version": 3
   },
   "file_extension": ".py",
   "mimetype": "text/x-python",
   "name": "python",
   "nbconvert_exporter": "python",
   "pygments_lexer": "ipython3",
   "version": "3.6.4"
  }
 },
 "nbformat": 4,
 "nbformat_minor": 2
}
