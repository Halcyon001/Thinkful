{
 "cells": [
  {
   "cell_type": "markdown",
   "metadata": {},
   "source": [
    "You're testing advertising emails for a bathing suit company and you test one version of the email in February and the other in May.\n",
    "\n",
    "The business a bathing suit company gets varies greatly with the seasons, since more people use their bathing suits in the summer than in the winter. If you send emails to 1 group of people in february, and one in may, you may get more buyers but it's not because of the different email, but because more people are buying swimsuits at that time"
   ]
  },
  {
   "cell_type": "markdown",
   "metadata": {},
   "source": [
    "You open a clinic to treat anxiety and find that the people who visit show a higher rate of anxiety than the general population.\n",
    "\n",
    "No shit, the whole point of the clinic is to attract that type of person"
   ]
  },
  {
   "cell_type": "markdown",
   "metadata": {},
   "source": [
    "You launch a new ad billboard based campaign and see an increase in website visits in the first week.\n",
    "\n",
    "It's only been one week, the increase in website visits could be total coincidence, or due to some other variable (if you are the swimsuit company from above, maybe you saw an increase in website visits in the first week of summer). The billboards are also not going to reach every audience, just the people who drive their cars past them. This excludes most teens, likely seniors, people who don't have to commute very far to their work, etc. This might matter or it might not depending on what your target audience is. "
   ]
  },
  {
   "cell_type": "markdown",
   "metadata": {},
   "source": [
    "You launch a loyalty program but see no change in visits in the first week.\n",
    "\n",
    "Again, it's only been one week. If your program rewards people for being loyal for one week, it would probably be doing your business a DISservice because it makes you seem desperate enough to reward people for being loyal for only 1 week. If you look at a bigger time frame, you may see a change in the number of visits. For someone to see that you have a loyalty program, jump up, and run out to your business in the first week, they would have to be really excited for that program. That's probably not typical of most people. The loyalty program is also meant to reward people who given you business over a long period of time. For new customers, it has no effect, so you wouldn't expect it to change their behavior anyway."
   ]
  }
 ],
 "metadata": {
  "kernelspec": {
   "display_name": "Python 3",
   "language": "python",
   "name": "python3"
  },
  "language_info": {
   "codemirror_mode": {
    "name": "ipython",
    "version": 3
   },
   "file_extension": ".py",
   "mimetype": "text/x-python",
   "name": "python",
   "nbconvert_exporter": "python",
   "pygments_lexer": "ipython3",
   "version": "3.6.4"
  }
 },
 "nbformat": 4,
 "nbformat_minor": 2
}
