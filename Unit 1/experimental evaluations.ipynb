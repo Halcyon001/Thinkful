{
 "cells": [
  {
   "cell_type": "markdown",
   "metadata": {},
   "source": [
    "The Sith Lords are concerned that their recruiting slogan, \"Give In to Your Anger,\" isn't very effective. Darth Vader develops an alternative slogan, \"Together We Can Rule the Galaxy.\" They compare the slogans on two groups of 50 captured droids each. In one group, Emperor Palpatine delivers the \"Anger\" slogan. In the other, Darth Vader presents the \"Together\" slogan. 20 droids convert to the Dark Side after hearing Palpatine's slogan, while only 5 droids convert after hearing Vader's. The Sith's data scientist concludes that \"Anger\" is a more effective slogan and should continue to be used.\n",
    "\n",
    "\n",
    "There are 2 (potentially 3) big problems with this experiment. The first is that the condition is not administered the same way to each group. The second is the sample selection (captive droids). The third is only conjecture, but is a corrolary of the second. The first problem is due to the fact that the Emperor is delivering one slogan, while Vader is delivering the other slogan. It's not just the slogan that is different, but the person presenting it. Palpatine may be more intimidating and causing more people to join the dark side out of fear of palpatine rather than the slogan being more effective. Second, the audiences to which the slogan is being presented is not representative of the population of the galaxy. There are two factors unique to the test audience. First, they are all captives. More droids from the sample may join the dark side out of fear, not because of the slogan, which may lead the Empire to believe that their slogan would be more effective when presented to the general populace than it really would be. The third problem that I considered at the beginning of this paragraph is the second factor related to the test audience, which is their race. They are all droids. Is that the only race the empire is interested in recruiting to the dark side? Likely not, since droids probably can't even use the force?\n",
    "\n",
    "# NO SPOILERS I DIDNT SEE ANY OF THE NEW STAR WARS MOVIES BESIDES THE FORCE AWAKENS\n",
    "\n",
    "The slogan may be more effective on droids than against people of other races of the galaxy.\n",
    "\n"
   ]
  },
  {
   "cell_type": "markdown",
   "metadata": {},
   "source": [
    "In the past, the Jedi have had difficulty with public relations. They send two envoys, Jar Jar Binks and Mace Windu, to four friendly and four unfriendly planets respectively, with the goal of promoting favorable feelings toward the Jedi. Upon their return, the envoys learn that Jar Jar was much more effective than Windu: Over 75% of the people surveyed said their attitudes had become more favorable after speaking with Jar Jar, while only 65% said their attitudes had become more favorable after speaking with Windu. This makes Windu angry, because he is sure that he had a better success rate than Jar Jar on every planet. The Jedi choose Jar Jar to be their representative in the future.\n",
    "\n",
    "They sent Jar Jar to planets where more people already thought favorably of the Jedi, so it makes sense that more people would respond favorably to the following survey on those planets. The planets that they sent Mace to were unfriendly, so even if there were less positive survey responses, the delta in positivity before and after jar jar and mace visited each planet may have been greater on the planets mace visited. This is basically a problem with sample selection. The races on each planet may be more friendly towards jarjar because he is gungan, or a politician (if i recall correctly?), or more hostile to mace because he is human, and because he is a jedi (on a planet that doesn't like jedi)."
   ]
  },
  {
   "cell_type": "markdown",
   "metadata": {},
   "source": [
    "A company with work sites in five different countries has sent you data on employee satisfaction rates for workers in Human Resources and workers in Information Technology. Most HR workers are concentrated in three of the countries, while IT workers are equally distributed across worksites. The company requests a report on satisfaction for each job type. You calculate average job satisfaction for HR and for IT and present the report.\n",
    "\n",
    "The satisfaction of each group of workers is being averaged across all countries instead of being looked at for each individual country. The HR workers in two of the countries are mostly being ignored, too. On average, job satisfaction for IT workers may be low, but it could be because only 1 of the work sites has a low satisfaction rate for IT workers. Instead of spending money across the board on IT job satisfaction, the company could concentrate the money on just the one problem country. "
   ]
  },
  {
   "cell_type": "markdown",
   "metadata": {},
   "source": [
    "When people install the Happy Days Fitness Tracker app, they are asked to \"opt in\" to a data collection scheme where their level of physical activity data is automatically sent to the company for product research purposes. During your interview with the company, they tell you that the app is very effective because after installing the app, the data show that people's activity levels rise steadily.\n",
    "\n",
    "People who choose to opt in could be more likely to continue using the app. This would mean that the data they get is more likely to belong to people whose fitness levels will rise steadily, not just because of the app. A better way to collect data would just be to not give users a choice and automatically opt everyone in so they can see what the behavior of users who would normally opt out is like."
   ]
  },
  {
   "cell_type": "markdown",
   "metadata": {},
   "source": [
    "To prevent cheating, a teacher writes three versions of a test. She stacks the three versions together, first all copies of Version A, then all copies of Version B, then all copies of Version C. As students arrive for the exam, each student takes a test. When grading the test, the teacher finds that students who took Version B scored higher than students who took either Version A or Version C. She concludes from this that Version B is easier, and discards it.\n",
    "\n",
    "The test wasn't randomly distributed to the population. Also the size of the population is not mentioned. It could be a class of 30 or 500. The sample size might be too small to make any conclusions anyway, even if the tests were sufficiently shuffled. Like with a deck of cards that still shows small patterns because it's not sufficiently shuffled, if the tests are  all handed out to groups of people that walk in together, it means the same type of person could be more likely to take each test (for example, a group of friends who are all similarly performing students all walk into the classroom together and all receive the same test)."
   ]
  }
 ],
 "metadata": {
  "kernelspec": {
   "display_name": "Python 3",
   "language": "python",
   "name": "python3"
  },
  "language_info": {
   "codemirror_mode": {
    "name": "ipython",
    "version": 3
   },
   "file_extension": ".py",
   "mimetype": "text/x-python",
   "name": "python",
   "nbconvert_exporter": "python",
   "pygments_lexer": "ipython3",
   "version": "3.6.4"
  }
 },
 "nbformat": 4,
 "nbformat_minor": 2
}
