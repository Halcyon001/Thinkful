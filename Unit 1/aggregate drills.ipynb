{
 "cells": [
  {
   "cell_type": "code",
   "execution_count": null,
   "metadata": {},
   "outputs": [],
   "source": [
    "What was the hottest day in our data set? Where was that?"
   ]
  },
  {
   "cell_type": "code",
   "execution_count": null,
   "metadata": {},
   "outputs": [],
   "source": [
    "select\n",
    "\tzip,\n",
    "\tmax(maxtemperaturef) max_temperature\n",
    "from\n",
    "\tweather"
   ]
  },
  {
   "cell_type": "code",
   "execution_count": null,
   "metadata": {},
   "outputs": [],
   "source": [
    "How many trips started at each station?"
   ]
  },
  {
   "cell_type": "code",
   "execution_count": null,
   "metadata": {},
   "outputs": [],
   "source": [
    "select\n",
    "\tstart_station,\n",
    "\tcount(start_station) number_of_trips\n",
    "from\n",
    "\ttrips\n",
    "group by start_station"
   ]
  },
  {
   "cell_type": "markdown",
   "metadata": {},
   "source": [
    "What's the shortest trip that happened?"
   ]
  },
  {
   "cell_type": "markdown",
   "metadata": {},
   "source": [
    "select\n",
    "\tmin(duration)\n",
    "from\n",
    "\ttrips"
   ]
  },
  {
   "cell_type": "markdown",
   "metadata": {},
   "source": [
    "What is the average trip duration, by end station?"
   ]
  },
  {
   "cell_type": "markdown",
   "metadata": {},
   "source": [
    "select\n",
    "\tend_station,\n",
    "\tavg(duration)\n",
    "from\n",
    "\ttrips\n",
    "group by end_station"
   ]
  }
 ],
 "metadata": {
  "kernelspec": {
   "display_name": "Python 3",
   "language": "python",
   "name": "python3"
  },
  "language_info": {
   "codemirror_mode": {
    "name": "ipython",
    "version": 3
   },
   "file_extension": ".py",
   "mimetype": "text/x-python",
   "name": "python",
   "nbconvert_exporter": "python",
   "pygments_lexer": "ipython3",
   "version": "3.6.4"
  }
 },
 "nbformat": 4,
 "nbformat_minor": 2
}
