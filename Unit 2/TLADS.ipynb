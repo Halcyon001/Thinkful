{
 "cells": [
  {
   "cell_type": "markdown",
   "metadata": {},
   "source": [
    "Variables in the ESS Data:\n",
    "Country - categorical \n",
    "Year - continuous ordinal? (even though there is a finite number of values)\n",
    "Idno - continuous ordinal \n",
    "tvtot - continuous ratio\n",
    "ppltrust - categorical\n",
    "pplfair - categorical\n",
    "pplhelp - categorical \n",
    "happy - categorical \n",
    "socialmeet - continuous ratio \n",
    "socialact - continuous ratio\n",
    "gender - categorical \n",
    "age - continuous ratio\n",
    "partnered - categorical "
   ]
  }
 ],
 "metadata": {
  "kernelspec": {
   "display_name": "Python 3",
   "language": "python",
   "name": "python3"
  },
  "language_info": {
   "codemirror_mode": {
    "name": "ipython",
    "version": 3
   },
   "file_extension": ".py",
   "mimetype": "text/x-python",
   "name": "python",
   "nbconvert_exporter": "python",
   "pygments_lexer": "ipython3",
   "version": "3.6.4"
  }
 },
 "nbformat": 4,
 "nbformat_minor": 2
}
