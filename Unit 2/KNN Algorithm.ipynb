{
 "cells": [
  {
   "cell_type": "code",
   "execution_count": 2,
   "metadata": {},
   "outputs": [],
   "source": [
    "import numpy as np\n",
    "import pandas as pd\n",
    "import matplotlib.pyplot as plt\n",
    "import scipy\n",
    "%matplotlib inline\n"
   ]
  },
  {
   "cell_type": "markdown",
   "metadata": {},
   "source": [
    "The Nearest Neighbor algorithm is extremely simple. So simple, in fact, that you should be able to build it yourself from scratch using the Python you already know. Code a Nearest Neighbors algorithm that works for two dimensional data. You can use either arrays or dataframes to do this. Test it against the SKLearn package on the music dataset from above to ensure that it's correct. The goal here is to confirm your understanding of the model and continue to practice your Python skills. We're just expecting a brute force method here. After doing this, look up \"ball tree\" methods to see a more performant algorithm design."
   ]
  },
  {
   "cell_type": "code",
   "execution_count": 3,
   "metadata": {},
   "outputs": [],
   "source": [
    "music = pd.DataFrame()\n",
    "\n",
    "# Some data to play with.\n",
    "music['duration'] = [184, 134, 243, 186, 122, 197, 294, 382, 102, 264, \n",
    "                     205, 110, 307, 110, 397, 153, 190, 192, 210, 403,\n",
    "                     164, 198, 204, 253, 234, 190, 182, 401, 376, 102]\n",
    "music['loudness'] = [18, 34, 43, 36, 22, 9, 29, 22, 10, 24, \n",
    "                     20, 10, 17, 51, 7, 13, 19, 12, 21, 22,\n",
    "                     16, 18, 4, 23, 34, 19, 14, 11, 37, 42]\n",
    "\n",
    "# We know whether the songs in our training data are jazz or not.\n",
    "music['jazz'] = [ 1, 0, 0, 0, 1, 1, 0, 1, 1, 0,\n",
    "                  0, 1, 1, 0, 1, 1, 0, 1, 1, 1,\n",
    "                  1, 1, 1, 1, 0, 0, 1, 1, 0, 0]"
   ]
  },
  {
   "cell_type": "code",
   "execution_count": 4,
   "metadata": {},
   "outputs": [],
   "source": [
    "#return the distance between 2 2d points\n",
    "def distance(x1, y1, x2, y2):\n",
    "    return np.sqrt(((x1-x2)**2) + ((y1-y2)**2))\n"
   ]
  },
  {
   "cell_type": "markdown",
   "metadata": {},
   "source": [
    "check the K nearest neighbors and have them vote to classify a newly observed data point"
   ]
  },
  {
   "cell_type": "code",
   "execution_count": 9,
   "metadata": {},
   "outputs": [],
   "source": [
    "#the dataframe must be set up such that the first column is x variable, the second column is the y variable,\n",
    "#and the third column is the resulting class\n",
    "def knnpredict(obsx, obsy, df, k):\n",
    "    if k % 2 == 0:#no even Ks to prevent ties\n",
    "        return 'Pick an odd K'\n",
    "    distances = []\n",
    "    x = 0\n",
    "    while x < len(df.index):#get the distances between the new data point and the training data points\n",
    "            distances.append(distance(df.iloc[x,0], df.iloc[x,1], obsx, obsy))\n",
    "            x+=1\n",
    "    kneighbors = []\n",
    "    kindices = []\n",
    "    x = 0\n",
    "    while x < k:#get the closest k neighbors and store them \n",
    "        i = distances.index(min(distances))\n",
    "        kindices.append(i)\n",
    "        distances.pop(i)\n",
    "        kneighbors.append(df.iloc[i, 2])\n",
    "        x+=1\n",
    "    voteclass = []\n",
    "    votecount = []\n",
    "    for value in set(kneighbors):#get the unique values of the neighbors and get ready to count the votes for each\n",
    "        voteclass.append(value)\n",
    "        votecount.append(0)\n",
    "    for i in kindices:\n",
    "        votecount[voteclass.index(df.iloc[i, 2])] += 1\n",
    "    return voteclass[votecount.index(max(votecount))]"
   ]
  },
  {
   "cell_type": "code",
   "execution_count": 13,
   "metadata": {},
   "outputs": [
    {
     "name": "stdout",
     "output_type": "stream",
     "text": [
      "0\n",
      "1\n"
     ]
    }
   ],
   "source": [
    "print(knnpredict(190, 24, music, 1))\n",
    "print(knnpredict(190, 24, music, 5))"
   ]
  },
  {
   "cell_type": "code",
   "execution_count": null,
   "metadata": {},
   "outputs": [],
   "source": []
  }
 ],
 "metadata": {
  "kernelspec": {
   "display_name": "Python 3",
   "language": "python",
   "name": "python3"
  },
  "language_info": {
   "codemirror_mode": {
    "name": "ipython",
    "version": 3
   },
   "file_extension": ".py",
   "mimetype": "text/x-python",
   "name": "python",
   "nbconvert_exporter": "python",
   "pygments_lexer": "ipython3",
   "version": "3.6.5"
  }
 },
 "nbformat": 4,
 "nbformat_minor": 2
}
