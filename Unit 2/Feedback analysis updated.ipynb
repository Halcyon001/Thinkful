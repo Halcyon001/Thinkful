{
 "cells": [
  {
   "cell_type": "code",
   "execution_count": 1,
   "metadata": {},
   "outputs": [],
   "source": [
    "import numpy as np\n",
    "import pandas as pd\n",
    "import matplotlib.pyplot as plt\n",
    "import seaborn as sns\n",
    "import scipy\n",
    "import sklearn\n"
   ]
  },
  {
   "cell_type": "code",
   "execution_count": 2,
   "metadata": {},
   "outputs": [],
   "source": [
    "datapath = 'datasets/sentimentlabelledsentences/amazon_cells_labelled.txt'\n",
    "\n",
    "reviews = pd.read_csv(datapath, sep = '\\t', header = None)"
   ]
  },
  {
   "cell_type": "code",
   "execution_count": 3,
   "metadata": {},
   "outputs": [
    {
     "name": "stdout",
     "output_type": "stream",
     "text": [
      "                                              review  positive\n",
      "0  So there is no way for me to plug it in here i...         0\n",
      "1                        Good case, Excellent value.         1\n",
      "2                             Great for the jawbone.         1\n",
      "3  Tied to charger for conversations lasting more...         0\n",
      "4                                  The mic is great.         1\n"
     ]
    }
   ],
   "source": [
    "reviews.columns = ['review', 'positive']\n",
    "print(reviews.head())"
   ]
  },
  {
   "cell_type": "code",
   "execution_count": null,
   "metadata": {},
   "outputs": [],
   "source": []
  },
  {
   "cell_type": "code",
   "execution_count": 4,
   "metadata": {},
   "outputs": [
    {
     "name": "stdout",
     "output_type": "stream",
     "text": [
      "                                              review  positive\n",
      "0  So there is no way for me to plug it in here i...         0\n",
      "1                        Good case, Excellent value.         1\n",
      "2                             Great for the jawbone.         1\n",
      "3  Tied to charger for conversations lasting more...         0\n",
      "4                                  The mic is great.         1\n"
     ]
    }
   ],
   "source": [
    "print(reviews.head())"
   ]
  },
  {
   "cell_type": "code",
   "execution_count": 5,
   "metadata": {},
   "outputs": [
    {
     "name": "stdout",
     "output_type": "stream",
     "text": [
      "                                              review  positive\n",
      "0  So there is no way for me to plug it in here i...     False\n",
      "1                        Good case, Excellent value.      True\n",
      "2                             Great for the jawbone.      True\n",
      "3  Tied to charger for conversations lasting more...     False\n",
      "4                                  The mic is great.      True\n"
     ]
    }
   ],
   "source": [
    "reviews.positive = (reviews.positive == True)\n",
    "print(reviews.head())"
   ]
  },
  {
   "cell_type": "code",
   "execution_count": 6,
   "metadata": {},
   "outputs": [],
   "source": [
    "poswords = []\n",
    "poswordcount = []\n",
    "negwords = []\n",
    "negwordcount = []"
   ]
  },
  {
   "cell_type": "code",
   "execution_count": 7,
   "metadata": {},
   "outputs": [
    {
     "name": "stdout",
     "output_type": "stream",
     "text": [
      "['good', 'case', 'excellent', 'value', 'great']\n",
      "1149\n",
      "[62, 18, 26, 5, 92]\n",
      "1149\n"
     ]
    }
   ],
   "source": [
    "#instead of guessing which words are more common, we'll let the computer figure it out for us\n",
    "#we'll count unique words, separated by positive/negative sentiment, and see if there are some common ones\n",
    "#positive reviews first\n",
    "for sentence in reviews[reviews.positive==1].review:\n",
    "    wordlist = sentence.split()\n",
    "    #for each positive review, split it up into its words\n",
    "    for word in wordlist:\n",
    "        word = word.strip('.!?,\\';:+-()[]{}/@%$_')#remove special characters and only compare in lowercase\n",
    "        if word.lower() in poswords:#if we already recorded this word just increment the count of it\n",
    "            poswordcount[poswords.index(word.lower())] += 1\n",
    "        else:#if we haven't found this word before, add it to the list, and give it a count of 1\n",
    "            poswords.append(word.lower())\n",
    "            poswordcount.append(1)\n",
    "\n",
    "print(poswords[:5])\n",
    "print(len(poswords))\n",
    "print(poswordcount[:5])\n",
    "print(len(poswordcount))"
   ]
  },
  {
   "cell_type": "code",
   "execution_count": 8,
   "metadata": {},
   "outputs": [
    {
     "name": "stdout",
     "output_type": "stream",
     "text": [
      "['so', 'there', 'is', 'no', 'way']\n",
      "1311\n",
      "[16, 9, 102, 14, 5]\n",
      "1311\n"
     ]
    }
   ],
   "source": [
    "#now for negative reviews\n",
    "for sentence in reviews[reviews.positive==0].review:\n",
    "    wordlist = sentence.split()\n",
    "    #for each negative review, split it up into its words\n",
    "    for word in wordlist:\n",
    "        word = word.strip('.!?,\\';:+-()[]{}/@%$_')#remove special characters and only compare in lowercase\n",
    "        if word.lower() in negwords:#if we already recorded this word just increment the count of it\n",
    "            negwordcount[negwords.index(word.lower())] += 1\n",
    "        else:#if we haven't found this word before, add it to the list, and give it a count of 1\n",
    "            negwords.append(word.lower())\n",
    "            negwordcount.append(1)\n",
    "            \n",
    "print(negwords[:5])\n",
    "print(len(negwords))\n",
    "print(negwordcount[:5])\n",
    "print(len(negwordcount))"
   ]
  },
  {
   "cell_type": "code",
   "execution_count": 9,
   "metadata": {},
   "outputs": [],
   "source": [
    "poswordframe = pd.DataFrame()\n",
    "poswordframe['poswords'] = poswords\n",
    "poswordframe['poswordcount'] = poswordcount\n",
    "\n",
    "negwordframe = pd.DataFrame()\n",
    "negwordframe['negwords'] = negwords\n",
    "negwordframe['negwordcount'] = negwordcount"
   ]
  },
  {
   "cell_type": "code",
   "execution_count": 10,
   "metadata": {},
   "outputs": [
    {
     "name": "stdout",
     "output_type": "stream",
     "text": [
      "    poswords  poswordcount\n",
      "0       good            62\n",
      "1       case            18\n",
      "2  excellent            26\n",
      "3      value             5\n",
      "4      great            92\n",
      "  negwords  negwordcount\n",
      "0       so            16\n",
      "1    there             9\n",
      "2       is           102\n",
      "3       no            14\n",
      "4      way             5\n"
     ]
    }
   ],
   "source": [
    "print(poswordframe.head())\n",
    "print(negwordframe.head())"
   ]
  },
  {
   "cell_type": "code",
   "execution_count": 11,
   "metadata": {},
   "outputs": [
    {
     "name": "stderr",
     "output_type": "stream",
     "text": [
      "c:\\users\\nekon\\appdata\\local\\programs\\python\\python36-32\\lib\\site-packages\\matplotlib\\axes\\_axes.py:6462: UserWarning: The 'normed' kwarg is deprecated, and has been replaced by the 'density' kwarg.\n",
      "  warnings.warn(\"The 'normed' kwarg is deprecated, and has been \"\n",
      "c:\\users\\nekon\\appdata\\local\\programs\\python\\python36-32\\lib\\site-packages\\matplotlib\\axes\\_axes.py:6462: UserWarning: The 'normed' kwarg is deprecated, and has been replaced by the 'density' kwarg.\n",
      "  warnings.warn(\"The 'normed' kwarg is deprecated, and has been \"\n"
     ]
    },
    {
     "data": {
      "image/png": "[encoded data removed]",
      "text/plain": [
       "<Figure size 432x288 with 2 Axes>"
      ]
     },
     "metadata": {},
     "output_type": "display_data"
    },
    {
     "name": "stdout",
     "output_type": "stream",
     "text": [
      "avg pos word count: 4.3141862489120975\n",
      "avg neg word count: 4.034324942791762\n"
     ]
    }
   ],
   "source": [
    "plt.subplot(121)\n",
    "plt.title('Word Usage in Positive Reviews')\n",
    "sns.distplot(poswordframe.poswordcount)\n",
    "plt.subplot(122)\n",
    "plt.title('Word Usage in Negative Reviews')\n",
    "sns.distplot(negwordframe.negwordcount)\n",
    "plt.show()\n",
    "\n",
    "print('avg pos word count: ' + str((sum(poswordcount)/len(poswordcount))))\n",
    "print('avg neg word count: ' + str((sum(negwordcount)/len(negwordcount))))"
   ]
  },
  {
   "cell_type": "code",
   "execution_count": 12,
   "metadata": {},
   "outputs": [
    {
     "data": {
      "text/plain": [
       "\"#let's just see if we can get all the words used more than 10 times\\n#if there aren't too many words, we'll use these as features, otherwise we'll cut down the number of words again\\ncommonposwords = poswordframe[poswordframe.poswordcount >= 1]\\ncommonnegwords = negwordframe[negwordframe.negwordcount >= 1]\\n#commonposwords = commonposwords.sort_values(by='poswordcount', ascending=False)\\n#commonnegwords = commonnegwords.sort_values(by='negwordcount', ascending=False)\\nprint(commonposwords.head())\\nprint(commonnegwords.head())\""
      ]
     },
     "execution_count": 12,
     "metadata": {},
     "output_type": "execute_result"
    }
   ],
   "source": [
    "'''#let's just see if we can get all the words used more than 10 times\n",
    "#if there aren't too many words, we'll use these as features, otherwise we'll cut down the number of words again\n",
    "commonposwords = poswordframe[poswordframe.poswordcount >= 1]\n",
    "commonnegwords = negwordframe[negwordframe.negwordcount >= 1]\n",
    "#commonposwords = commonposwords.sort_values(by='poswordcount', ascending=False)\n",
    "#commonnegwords = commonnegwords.sort_values(by='negwordcount', ascending=False)\n",
    "print(commonposwords.head())\n",
    "print(commonnegwords.head())'''"
   ]
  },
  {
   "cell_type": "code",
   "execution_count": 13,
   "metadata": {},
   "outputs": [
    {
     "ename": "NameError",
     "evalue": "name 'commonposwords' is not defined",
     "output_type": "error",
     "traceback": [
      "\u001b[1;31m---------------------------------------------------------------------------\u001b[0m",
      "\u001b[1;31mNameError\u001b[0m                                 Traceback (most recent call last)",
      "\u001b[1;32m<ipython-input-13-421dc9633890>\u001b[0m in \u001b[0;36m<module>\u001b[1;34m()\u001b[0m\n\u001b[1;32m----> 1\u001b[1;33m \u001b[0mshared\u001b[0m \u001b[1;33m=\u001b[0m \u001b[0mcommonposwords\u001b[0m\u001b[1;33m.\u001b[0m\u001b[0miloc\u001b[0m\u001b[1;33m[\u001b[0m\u001b[0mnp\u001b[0m\u001b[1;33m.\u001b[0m\u001b[0mwhere\u001b[0m\u001b[1;33m(\u001b[0m\u001b[0mcommonposwords\u001b[0m\u001b[1;33m.\u001b[0m\u001b[0mposwords\u001b[0m\u001b[1;33m.\u001b[0m\u001b[0misin\u001b[0m\u001b[1;33m(\u001b[0m\u001b[0mcommonnegwords\u001b[0m\u001b[1;33m.\u001b[0m\u001b[0mnegwords\u001b[0m\u001b[1;33m)\u001b[0m\u001b[1;33m)\u001b[0m\u001b[1;33m]\u001b[0m\u001b[1;33m\u001b[0m\u001b[0m\n\u001b[0m\u001b[0;32m      2\u001b[0m \u001b[0muniquepos\u001b[0m \u001b[1;33m=\u001b[0m \u001b[0mposwordframe\u001b[0m\u001b[1;33m[\u001b[0m\u001b[1;33m~\u001b[0m\u001b[0mposwordframe\u001b[0m\u001b[1;33m.\u001b[0m\u001b[0mposwords\u001b[0m\u001b[1;33m.\u001b[0m\u001b[0misin\u001b[0m\u001b[1;33m(\u001b[0m\u001b[0mnegwordframe\u001b[0m\u001b[1;33m.\u001b[0m\u001b[0mnegwords\u001b[0m\u001b[1;33m)\u001b[0m\u001b[1;33m]\u001b[0m\u001b[1;33m\u001b[0m\u001b[0m\n\u001b[0;32m      3\u001b[0m \u001b[0muniqueneg\u001b[0m \u001b[1;33m=\u001b[0m \u001b[0mnegwordframe\u001b[0m\u001b[1;33m[\u001b[0m\u001b[1;33m~\u001b[0m\u001b[0mnegwordframe\u001b[0m\u001b[1;33m.\u001b[0m\u001b[0mnegwords\u001b[0m\u001b[1;33m.\u001b[0m\u001b[0misin\u001b[0m\u001b[1;33m(\u001b[0m\u001b[0mposwordframe\u001b[0m\u001b[1;33m.\u001b[0m\u001b[0mposwords\u001b[0m\u001b[1;33m)\u001b[0m\u001b[1;33m]\u001b[0m\u001b[1;33m\u001b[0m\u001b[0m\n",
      "\u001b[1;31mNameError\u001b[0m: name 'commonposwords' is not defined"
     ]
    }
   ],
   "source": [
    "shared = commonposwords.iloc[np.where(commonposwords.poswords.isin(commonnegwords.negwords))]\n",
    "uniquepos = poswordframe[~poswordframe.poswords.isin(negwordframe.negwords)]\n",
    "uniqueneg = negwordframe[~negwordframe.negwords.isin(poswordframe.poswords)]"
   ]
  },
  {
   "cell_type": "code",
   "execution_count": 14,
   "metadata": {},
   "outputs": [
    {
     "ename": "NameError",
     "evalue": "name 'uniquepos' is not defined",
     "output_type": "error",
     "traceback": [
      "\u001b[1;31m---------------------------------------------------------------------------\u001b[0m",
      "\u001b[1;31mNameError\u001b[0m                                 Traceback (most recent call last)",
      "\u001b[1;32m<ipython-input-14-ef82bdc648d3>\u001b[0m in \u001b[0;36m<module>\u001b[1;34m()\u001b[0m\n\u001b[1;32m----> 1\u001b[1;33m \u001b[1;32mfor\u001b[0m \u001b[0mposword\u001b[0m \u001b[1;32min\u001b[0m \u001b[0muniquepos\u001b[0m\u001b[1;33m.\u001b[0m\u001b[0mposwords\u001b[0m\u001b[1;33m:\u001b[0m\u001b[1;33m\u001b[0m\u001b[0m\n\u001b[0m\u001b[0;32m      2\u001b[0m     \u001b[0mreviews\u001b[0m\u001b[1;33m[\u001b[0m\u001b[0mposword\u001b[0m\u001b[1;33m]\u001b[0m \u001b[1;33m=\u001b[0m \u001b[0mreviews\u001b[0m\u001b[1;33m.\u001b[0m\u001b[0mreview\u001b[0m\u001b[1;33m.\u001b[0m\u001b[0mstr\u001b[0m\u001b[1;33m.\u001b[0m\u001b[0mcontains\u001b[0m\u001b[1;33m(\u001b[0m\u001b[0mposword\u001b[0m\u001b[1;33m,\u001b[0m \u001b[0mcase\u001b[0m\u001b[1;33m=\u001b[0m\u001b[1;32mFalse\u001b[0m\u001b[1;33m)\u001b[0m\u001b[1;33m\u001b[0m\u001b[0m\n\u001b[0;32m      3\u001b[0m \u001b[0mprint\u001b[0m\u001b[1;33m(\u001b[0m\u001b[0mreviews\u001b[0m\u001b[1;33m.\u001b[0m\u001b[0mhead\u001b[0m\u001b[1;33m(\u001b[0m\u001b[1;33m)\u001b[0m\u001b[1;33m)\u001b[0m\u001b[1;33m\u001b[0m\u001b[0m\n",
      "\u001b[1;31mNameError\u001b[0m: name 'uniquepos' is not defined"
     ]
    }
   ],
   "source": [
    "for posword in uniquepos.poswords:\n",
    "    reviews[posword] = reviews.review.str.contains(posword, case=False)\n",
    "print(reviews.head())"
   ]
  },
  {
   "cell_type": "code",
   "execution_count": 15,
   "metadata": {},
   "outputs": [
    {
     "ename": "NameError",
     "evalue": "name 'uniqueneg' is not defined",
     "output_type": "error",
     "traceback": [
      "\u001b[1;31m---------------------------------------------------------------------------\u001b[0m",
      "\u001b[1;31mNameError\u001b[0m                                 Traceback (most recent call last)",
      "\u001b[1;32m<ipython-input-15-64d31cd8c800>\u001b[0m in \u001b[0;36m<module>\u001b[1;34m()\u001b[0m\n\u001b[1;32m----> 1\u001b[1;33m \u001b[1;32mfor\u001b[0m \u001b[0mnegword\u001b[0m \u001b[1;32min\u001b[0m \u001b[0muniqueneg\u001b[0m\u001b[1;33m.\u001b[0m\u001b[0mnegwords\u001b[0m\u001b[1;33m:\u001b[0m\u001b[1;33m\u001b[0m\u001b[0m\n\u001b[0m\u001b[0;32m      2\u001b[0m     \u001b[0mreviews\u001b[0m\u001b[1;33m[\u001b[0m\u001b[0mnegword\u001b[0m\u001b[1;33m]\u001b[0m \u001b[1;33m=\u001b[0m \u001b[1;33m~\u001b[0m\u001b[0mreviews\u001b[0m\u001b[1;33m.\u001b[0m\u001b[0mreview\u001b[0m\u001b[1;33m.\u001b[0m\u001b[0mstr\u001b[0m\u001b[1;33m.\u001b[0m\u001b[0mcontains\u001b[0m\u001b[1;33m(\u001b[0m\u001b[0mnegword\u001b[0m\u001b[1;33m,\u001b[0m \u001b[0mcase\u001b[0m\u001b[1;33m=\u001b[0m\u001b[1;32mFalse\u001b[0m\u001b[1;33m)\u001b[0m\u001b[1;33m\u001b[0m\u001b[0m\n\u001b[0;32m      3\u001b[0m \u001b[0mprint\u001b[0m\u001b[1;33m(\u001b[0m\u001b[0mreviews\u001b[0m\u001b[1;33m.\u001b[0m\u001b[0mhead\u001b[0m\u001b[1;33m(\u001b[0m\u001b[1;33m)\u001b[0m\u001b[1;33m)\u001b[0m\u001b[1;33m\u001b[0m\u001b[0m\n",
      "\u001b[1;31mNameError\u001b[0m: name 'uniqueneg' is not defined"
     ]
    }
   ],
   "source": [
    "for negword in uniqueneg.negwords:\n",
    "    reviews[negword] = ~reviews.review.str.contains(negword, case=False)\n",
    "print(reviews.head())"
   ]
  },
  {
   "cell_type": "code",
   "execution_count": 16,
   "metadata": {},
   "outputs": [
    {
     "ename": "NameError",
     "evalue": "name 'uniquepos' is not defined",
     "output_type": "error",
     "traceback": [
      "\u001b[1;31m---------------------------------------------------------------------------\u001b[0m",
      "\u001b[1;31mNameError\u001b[0m                                 Traceback (most recent call last)",
      "\u001b[1;32m<ipython-input-16-7597d32ba829>\u001b[0m in \u001b[0;36m<module>\u001b[1;34m()\u001b[0m\n\u001b[1;32m----> 1\u001b[1;33m \u001b[0mfeatures\u001b[0m \u001b[1;33m=\u001b[0m \u001b[0mreviews\u001b[0m\u001b[1;33m[\u001b[0m\u001b[0muniquepos\u001b[0m\u001b[1;33m.\u001b[0m\u001b[0mposwords\u001b[0m\u001b[1;33m.\u001b[0m\u001b[0mtolist\u001b[0m\u001b[1;33m(\u001b[0m\u001b[1;33m)\u001b[0m \u001b[1;33m+\u001b[0m \u001b[0muniqueneg\u001b[0m\u001b[1;33m.\u001b[0m\u001b[0mnegwords\u001b[0m\u001b[1;33m.\u001b[0m\u001b[0mtolist\u001b[0m\u001b[1;33m(\u001b[0m\u001b[1;33m)\u001b[0m\u001b[1;33m]\u001b[0m\u001b[1;33m\u001b[0m\u001b[0m\n\u001b[0m\u001b[0;32m      2\u001b[0m \u001b[0mresults\u001b[0m \u001b[1;33m=\u001b[0m \u001b[0mreviews\u001b[0m\u001b[1;33m.\u001b[0m\u001b[0mpositive\u001b[0m\u001b[1;33m\u001b[0m\u001b[0m\n",
      "\u001b[1;31mNameError\u001b[0m: name 'uniquepos' is not defined"
     ]
    }
   ],
   "source": [
    "features = reviews[uniquepos.poswords.tolist() + uniqueneg.negwords.tolist()]\n",
    "results = reviews.positive"
   ]
  },
  {
   "cell_type": "code",
   "execution_count": 17,
   "metadata": {},
   "outputs": [
    {
     "ename": "NameError",
     "evalue": "name 'features' is not defined",
     "output_type": "error",
     "traceback": [
      "\u001b[1;31m---------------------------------------------------------------------------\u001b[0m",
      "\u001b[1;31mNameError\u001b[0m                                 Traceback (most recent call last)",
      "\u001b[1;32m<ipython-input-17-0d1040458d0a>\u001b[0m in \u001b[0;36m<module>\u001b[1;34m()\u001b[0m\n\u001b[0;32m      3\u001b[0m \u001b[0mmodel\u001b[0m \u001b[1;33m=\u001b[0m \u001b[0mBernoulliNB\u001b[0m\u001b[1;33m(\u001b[0m\u001b[1;33m)\u001b[0m\u001b[1;33m\u001b[0m\u001b[0m\n\u001b[0;32m      4\u001b[0m \u001b[1;33m\u001b[0m\u001b[0m\n\u001b[1;32m----> 5\u001b[1;33m \u001b[0mmodel\u001b[0m\u001b[1;33m.\u001b[0m\u001b[0mfit\u001b[0m\u001b[1;33m(\u001b[0m\u001b[0mfeatures\u001b[0m\u001b[1;33m,\u001b[0m \u001b[0mresults\u001b[0m\u001b[1;33m)\u001b[0m\u001b[1;33m\u001b[0m\u001b[0m\n\u001b[0m",
      "\u001b[1;31mNameError\u001b[0m: name 'features' is not defined"
     ]
    }
   ],
   "source": [
    "from sklearn.naive_bayes import BernoulliNB\n",
    "\n",
    "model = BernoulliNB()\n",
    "\n",
    "model.fit(features, results)"
   ]
  },
  {
   "cell_type": "code",
   "execution_count": 18,
   "metadata": {},
   "outputs": [
    {
     "ename": "NameError",
     "evalue": "name 'features' is not defined",
     "output_type": "error",
     "traceback": [
      "\u001b[1;31m---------------------------------------------------------------------------\u001b[0m",
      "\u001b[1;31mNameError\u001b[0m                                 Traceback (most recent call last)",
      "\u001b[1;32m<ipython-input-18-a5da18008e60>\u001b[0m in \u001b[0;36m<module>\u001b[1;34m()\u001b[0m\n\u001b[1;32m----> 1\u001b[1;33m \u001b[0mpredictions\u001b[0m \u001b[1;33m=\u001b[0m \u001b[0mmodel\u001b[0m\u001b[1;33m.\u001b[0m\u001b[0mpredict\u001b[0m\u001b[1;33m(\u001b[0m\u001b[0mfeatures\u001b[0m\u001b[1;33m)\u001b[0m\u001b[1;33m\u001b[0m\u001b[0m\n\u001b[0m\u001b[0;32m      2\u001b[0m \u001b[1;33m\u001b[0m\u001b[0m\n\u001b[0;32m      3\u001b[0m \u001b[0mprint\u001b[0m\u001b[1;33m(\u001b[0m\u001b[1;34m'Total reviews: '\u001b[0m \u001b[1;33m+\u001b[0m \u001b[0mstr\u001b[0m\u001b[1;33m(\u001b[0m\u001b[0mfeatures\u001b[0m\u001b[1;33m.\u001b[0m\u001b[0mshape\u001b[0m\u001b[1;33m[\u001b[0m\u001b[1;36m0\u001b[0m\u001b[1;33m]\u001b[0m\u001b[1;33m)\u001b[0m\u001b[1;33m)\u001b[0m\u001b[1;33m\u001b[0m\u001b[0m\n\u001b[0;32m      4\u001b[0m \u001b[0mprint\u001b[0m\u001b[1;33m(\u001b[0m\u001b[1;34m'Correct predictions : '\u001b[0m \u001b[1;33m+\u001b[0m \u001b[0mstr\u001b[0m\u001b[1;33m(\u001b[0m\u001b[1;33m(\u001b[0m\u001b[0mresults\u001b[0m\u001b[1;33m==\u001b[0m\u001b[0mpredictions\u001b[0m\u001b[1;33m)\u001b[0m\u001b[1;33m.\u001b[0m\u001b[0msum\u001b[0m\u001b[1;33m(\u001b[0m\u001b[1;33m)\u001b[0m\u001b[1;33m)\u001b[0m\u001b[1;33m)\u001b[0m\u001b[1;33m\u001b[0m\u001b[0m\n",
      "\u001b[1;31mNameError\u001b[0m: name 'features' is not defined"
     ]
    }
   ],
   "source": [
    "predictions = model.predict(features)\n",
    "\n",
    "print('Total reviews: ' + str(features.shape[0]))\n",
    "print('Correct predictions : ' + str((results==predictions).sum()))"
   ]
  },
  {
   "cell_type": "markdown",
   "metadata": {},
   "source": [
    "Well, it works with 81.6 percent accuracy for the amazon reviews. I guess that's ok. \n",
    "After trying it on the yelp reviews, the same approach had 83.3% accuracy when used to predict the training data.\n",
    "(I point out that it is predicting the training data because this does not guarantee that it will work on other data)"
   ]
  },
  {
   "cell_type": "markdown",
   "metadata": {},
   "source": [
    "Time to do some holdout tests to see how good our model really is.\n",
    "\n",
    "need to holdout a section of the input (the features the model takes as input) and the corresponding actual result of the heldout inputs. It sure was convenient to make features = the features and results = the results"
   ]
  },
  {
   "cell_type": "code",
   "execution_count": 71,
   "metadata": {},
   "outputs": [
    {
     "name": "stdout",
     "output_type": "stream",
     "text": [
      "Testing the model on the full dataset: 0.753\n",
      "Testing the model on the heldout dataset: 0.73\n"
     ]
    }
   ],
   "source": [
    "from sklearn.model_selection import train_test_split\n",
    "\n",
    "trainfeatures, testfeatures, trainresults, testresults = train_test_split(features, results, test_size = .2)\n",
    "\n",
    "print('Testing the model on the full dataset: ' + str(model.fit(features, results).score(features, results)))\n",
    "print('Testing the model on the heldout dataset: '+str(model.fit(trainfeatures, trainresults).score(testfeatures, testresults)))\n"
   ]
  },
  {
   "cell_type": "markdown",
   "metadata": {},
   "source": [
    "After trying different random seeds in the train_test_split, it seems like the accuracy of the model went down on the holdout groups, so it seems like the model is overfitting.\n",
    "\n",
    "Let's do some cross validation just for practice purposes."
   ]
  },
  {
   "cell_type": "code",
   "execution_count": 72,
   "metadata": {},
   "outputs": [
    {
     "data": {
      "text/plain": [
       "array([0.83, 0.77, 0.81, 0.72, 0.77, 0.66, 0.68, 0.74, 0.77, 0.69])"
      ]
     },
     "execution_count": 72,
     "metadata": {},
     "output_type": "execute_result"
    }
   ],
   "source": [
    "from sklearn.model_selection import cross_val_score\n",
    "\n",
    "cross_val_score(model, features, results, cv=10)"
   ]
  },
  {
   "cell_type": "markdown",
   "metadata": {},
   "source": [
    "Changelog:\n",
    "\n",
    "Version 1.0.0- Basic classifier completed\n",
    "This was not very good because it was overfit to the training data, and didn't have consistent results with holdout tests and cross validation\n",
    "\n",
    "Version 1.1.0- Reduced number of features by doubling the required number of occurences a word must have to be a feature. the model was less accurate (because it wasn't overfit), but was more consistent with the holdout tests it seems\n",
    "\n",
    "Version 1.1.1- Doubled the number of required word occurences for feature qualification again. The tests are again more consistent, but the model itself is only like 75% accurate on average it seems, so it probably needs some better features.\n",
    "\n",
    "Version 1.2.0- Kept all words, making the pool of positive and negative reviews both equivalent to a bag of words."
   ]
  },
  {
   "cell_type": "code",
   "execution_count": null,
   "metadata": {},
   "outputs": [],
   "source": []
  }
 ],
 "metadata": {
  "kernelspec": {
   "display_name": "Python 3",
   "language": "python",
   "name": "python3"
  },
  "language_info": {
   "codemirror_mode": {
    "name": "ipython",
    "version": 3
   },
   "file_extension": ".py",
   "mimetype": "text/x-python",
   "name": "python",
   "nbconvert_exporter": "python",
   "pygments_lexer": "ipython3",
   "version": "3.6.5"
  }
 },
 "nbformat": 4,
 "nbformat_minor": 2
}
