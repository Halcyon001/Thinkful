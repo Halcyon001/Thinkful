{
 "cells": [
  {
   "cell_type": "markdown",
   "metadata": {},
   "source": [
    "The amount a person will spend on a given site in the next 24 months.\n",
    "\n",
    "regression because its modeling a quantitative variable\n",
    "\n",
    "What color car someone is going to buy.\n",
    "\n",
    "classification because its a qualitative variable\n",
    "\n",
    "How many children a family will have.\n",
    "\n",
    "classification because i don't like having an average number of kids as half a kid,\n",
    "i would rather have probabilities of how many kids a family is likely to have\n",
    "\n",
    "If someone will sign up for a service.\n",
    "\n",
    "classification because its qualitative\n",
    "\n",
    "The number of times someone will get sick in a year.\n",
    "\n",
    "classification because people dont get sick that often, and it would make it easier to \n",
    "categorize the kind of medical complication a person has\n",
    "\n",
    "The probability someone will get sick in the next month.\n",
    "\n",
    "classification because same as above\n",
    "\n",
    "Which medicine will work best for a given patient.\n",
    "\n",
    "probably regression if it's possible to take a quantitative measurement of the illness in question \n",
    "(i.e. density of the bacterial cells)\n"
   ]
  }
 ],
 "metadata": {
  "kernelspec": {
   "display_name": "Python 3",
   "language": "python",
   "name": "python3"
  },
  "language_info": {
   "codemirror_mode": {
    "name": "ipython",
    "version": 3
   },
   "file_extension": ".py",
   "mimetype": "text/x-python",
   "name": "python",
   "nbconvert_exporter": "python",
   "pygments_lexer": "ipython3",
   "version": "3.6.4"
  }
 },
 "nbformat": 4,
 "nbformat_minor": 2
}
