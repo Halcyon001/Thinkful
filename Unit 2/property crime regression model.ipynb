{
 "cells": [
  {
   "cell_type": "code",
   "execution_count": 2,
   "metadata": {},
   "outputs": [],
   "source": [
    "import numpy as np\n",
    "import pandas as pd\n",
    "import matplotlib.pyplot as plt\n",
    "import seaborn as sns\n",
    "%matplotlib inline\n",
    "\n",
    "from sklearn import linear_model\n"
   ]
  },
  {
   "cell_type": "code",
   "execution_count": 3,
   "metadata": {},
   "outputs": [
    {
     "name": "stdout",
     "output_type": "stream",
     "text": [
      "                       city population violentcrime  murder  revisedrape  \\\n",
      "0             Adams Village      1,861            0     0.0          NaN   \n",
      "1  Addison Town and Village      2,577            3     0.0          NaN   \n",
      "2             Akron Village      2,846            3     0.0          NaN   \n",
      "3                    Albany     97,956          791     8.0          NaN   \n",
      "4            Albion Village      6,388           23     0.0          NaN   \n",
      "\n",
      "  legacyrape robbery aggravatedassault propertycrime burglary larceny  \\\n",
      "0          0       0                 0            12        2      10   \n",
      "1          0       0                 3            24        3      20   \n",
      "2          0       0                 3            16        1      15   \n",
      "3         30     227               526         4,090      705   3,243   \n",
      "4          3       4                16           223       53     165   \n",
      "\n",
      "  autotheft  arson  \n",
      "0         0    0.0  \n",
      "1         1    0.0  \n",
      "2         0    0.0  \n",
      "3       142    NaN  \n",
      "4         5    NaN  \n"
     ]
    }
   ],
   "source": [
    "rawdata = pd.read_csv('datasets/NEW_YORK-Offenses_Known_to_Law_Enforcement_by_City_2013_clean.csv')\n",
    "\n",
    "colnames = ['city','population','violentcrime','murder','revisedrape','legacyrape','robbery','aggravatedassault','propertycrime','burglary','larceny','autotheft','arson']\n",
    "rawdata.columns = colnames\n",
    "print(rawdata.head())"
   ]
  },
  {
   "cell_type": "code",
   "execution_count": 4,
   "metadata": {},
   "outputs": [
    {
     "name": "stdout",
     "output_type": "stream",
     "text": [
      "                       city population violentcrime murder revisedrape  \\\n",
      "0             Adams Village      1,861            0      0           0   \n",
      "1  Addison Town and Village      2,577            3      0           0   \n",
      "2             Akron Village      2,846            3      0           0   \n",
      "3                    Albany     97,956          791      8           0   \n",
      "4            Albion Village      6,388           23      0           0   \n",
      "\n",
      "  legacyrape robbery aggravatedassault propertycrime burglary larceny  \\\n",
      "0          0       0                 0            12        2      10   \n",
      "1          0       0                 3            24        3      20   \n",
      "2          0       0                 3            16        1      15   \n",
      "3         30     227               526         4,090      705   3,243   \n",
      "4          3       4                16           223       53     165   \n",
      "\n",
      "  autotheft arson  \n",
      "0         0     0  \n",
      "1         1     0  \n",
      "2         0     0  \n",
      "3       142     0  \n",
      "4         5     0  \n"
     ]
    }
   ],
   "source": [
    "filleddata = rawdata.fillna(value='0')\n",
    "print(filleddata.head())"
   ]
  },
  {
   "cell_type": "code",
   "execution_count": 5,
   "metadata": {},
   "outputs": [
    {
     "name": "stderr",
     "output_type": "stream",
     "text": [
      "c:\\users\\nekon\\appdata\\local\\programs\\python\\python36-32\\lib\\site-packages\\ipykernel_launcher.py:9: SettingWithCopyWarning: \n",
      "A value is trying to be set on a copy of a slice from a DataFrame.\n",
      "Try using .loc[row_indexer,col_indexer] = value instead\n",
      "\n",
      "See the caveats in the documentation: http://pandas.pydata.org/pandas-docs/stable/indexing.html#indexing-view-versus-copy\n",
      "  if __name__ == '__main__':\n"
     ]
    }
   ],
   "source": [
    "#replace all these freaking strings with ints by removing the commas\n",
    "strdata = filleddata.iloc[:, 1:]\n",
    "for col in strdata.columns:\n",
    "    newvals = []\n",
    "    for val in strdata[col]:\n",
    "        if(type(val)==str):\n",
    "            val=val.replace(',','')\n",
    "        newvals.append(val)\n",
    "    strdata[col] = newvals\n",
    "\n",
    "cleandata = strdata"
   ]
  },
  {
   "cell_type": "code",
   "execution_count": 6,
   "metadata": {},
   "outputs": [
    {
     "name": "stderr",
     "output_type": "stream",
     "text": [
      "c:\\users\\nekon\\appdata\\local\\programs\\python\\python36-32\\lib\\site-packages\\pandas\\core\\indexing.py:194: SettingWithCopyWarning: \n",
      "A value is trying to be set on a copy of a slice from a DataFrame\n",
      "\n",
      "See the caveats in the documentation: http://pandas.pydata.org/pandas-docs/stable/indexing.html#indexing-view-versus-copy\n",
      "  self._setitem_with_indexer(indexer, value)\n",
      "c:\\users\\nekon\\appdata\\local\\programs\\python\\python36-32\\lib\\site-packages\\ipykernel_launcher.py:5: SettingWithCopyWarning: \n",
      "A value is trying to be set on a copy of a slice from a DataFrame\n",
      "\n",
      "See the caveats in the documentation: http://pandas.pydata.org/pandas-docs/stable/indexing.html#indexing-view-versus-copy\n",
      "  \"\"\"\n"
     ]
    },
    {
     "name": "stdout",
     "output_type": "stream",
     "text": [
      "int64\n"
     ]
    }
   ],
   "source": [
    "c = 0 \n",
    "while c < len(cleandata.columns):\n",
    "    r = 0\n",
    "    while r < len(cleandata.iloc[:, c]):\n",
    "        cleandata.iloc[r, c] = int(float(cleandata.iloc[r, c]))\n",
    "        r+=1\n",
    "    c+=1\n",
    "    \n",
    "print(cleandata['population'].dtype)"
   ]
  },
  {
   "cell_type": "code",
   "execution_count": 7,
   "metadata": {},
   "outputs": [],
   "source": [
    "filleddata.iloc[:, 1:] = cleandata"
   ]
  },
  {
   "cell_type": "code",
   "execution_count": 8,
   "metadata": {},
   "outputs": [
    {
     "name": "stdout",
     "output_type": "stream",
     "text": [
      "                       city population violentcrime murder revisedrape  \\\n",
      "0             Adams Village       1861            0      0           0   \n",
      "1  Addison Town and Village       2577            3      0           0   \n",
      "2             Akron Village       2846            3      0           0   \n",
      "3                    Albany      97956          791      8           0   \n",
      "4            Albion Village       6388           23      0           0   \n",
      "\n",
      "  legacyrape robbery aggravatedassault propertycrime burglary larceny  \\\n",
      "0          0       0                 0            12        2      10   \n",
      "1          0       0                 3            24        3      20   \n",
      "2          0       0                 3            16        1      15   \n",
      "3         30     227               526          4090      705    3243   \n",
      "4          3       4                16           223       53     165   \n",
      "\n",
      "  autotheft arson  popsquared  \n",
      "0         0     0     3463321  \n",
      "1         1     0     6640929  \n",
      "2         0     0     8099716  \n",
      "3       142     0  9595377936  \n",
      "4         5     0    40806544  \n"
     ]
    }
   ],
   "source": [
    "filleddata['popsquared'] = filleddata['population']**2\n",
    "print(filleddata.head())"
   ]
  },
  {
   "cell_type": "code",
   "execution_count": 17,
   "metadata": {},
   "outputs": [
    {
     "name": "stdout",
     "output_type": "stream",
     "text": [
      "                       city population violentcrime murder revisedrape  \\\n",
      "0             Adams Village       1861            0      0           0   \n",
      "1  Addison Town and Village       2577            3      0           0   \n",
      "2             Akron Village       2846            3      0           0   \n",
      "3                    Albany      97956          791      8           0   \n",
      "4            Albion Village       6388           23      0           0   \n",
      "\n",
      "  legacyrape robbery aggravatedassault propertycrime burglary larceny  \\\n",
      "0          0       0                 0            12        2      10   \n",
      "1          0       0                 3            24        3      20   \n",
      "2          0       0                 3            16        1      15   \n",
      "3         30     227               526          4090      705    3243   \n",
      "4          3       4                16           223       53     165   \n",
      "\n",
      "  autotheft arson  popsquared  murderbool  robberybool  \n",
      "0         0     0     3463321       False        False  \n",
      "1         1     0     6640929       False        False  \n",
      "2         0     0     8099716       False        False  \n",
      "3       142     0  9595377936        True         True  \n",
      "4         5     0    40806544       False         True  \n",
      "             murderbool  robberybool\n",
      "murderbool     1.000000     0.315272\n",
      "robberybool    0.315272     1.000000\n"
     ]
    }
   ],
   "source": [
    "murderbools = []\n",
    "robberybools = []\n",
    "for val in filleddata['murder']:\n",
    "    murderbools.append(val > 0)\n",
    "for val in filleddata['robbery']:\n",
    "    robberybools.append(val > 0)\n",
    "filleddata['murderbool'] = murderbools \n",
    "filleddata['robberybool'] = robberybools\n",
    "print(filleddata.head())"
   ]
  },
  {
   "cell_type": "code",
   "execution_count": 28,
   "metadata": {},
   "outputs": [
    {
     "name": "stdout",
     "output_type": "stream",
     "text": [
      "Coefficients:  [[0.01695682]]\n",
      "Intercept:  [112.72351429]\n",
      "R-squared:  0.9925431962714344\n"
     ]
    }
   ],
   "source": [
    "#independent variables\n",
    "ind = filleddata[['population']]\n",
    "\n",
    "#dependent variable\n",
    "dep = filleddata['propertycrime'].values.reshape(-1, 1)\n",
    "\n",
    "regmodel = linear_model.LinearRegression()\n",
    "regmodel.fit(ind, dep)\n",
    "\n",
    "print('Coefficients: ', regmodel.coef_)\n",
    "print('Intercept: ', regmodel.intercept_)\n",
    "print('R-squared: ', regmodel.score(ind, dep))"
   ]
  },
  {
   "cell_type": "code",
   "execution_count": 27,
   "metadata": {},
   "outputs": [
    {
     "data": {
      "text/plain": [
       "<matplotlib.axes._subplots.AxesSubplot at 0x2dd1b10>"
      ]
     },
     "execution_count": 27,
     "metadata": {},
     "output_type": "execute_result"
    },
    {
     "data": {
      "image/png": "[encoded data removed]",
      "text/plain": [
       "<Figure size 432x288 with 2 Axes>"
      ]
     },
     "metadata": {},
     "output_type": "display_data"
    }
   ],
   "source": [
    "heatmap = ind.astype(float).corr()\n",
    "\n",
    "sns.heatmap(heatmap, xticklabels=heatmap.columns, yticklabels=heatmap.columns)"
   ]
  },
  {
   "cell_type": "code",
   "execution_count": 32,
   "metadata": {},
   "outputs": [
    {
     "data": {
      "image/png": "[encoded data removed]",
      "text/plain": [
       "<Figure size 432x288 with 1 Axes>"
      ]
     },
     "metadata": {},
     "output_type": "display_data"
    }
   ],
   "source": [
    "predictions = regmodel.predict(ind).ravel()\n",
    "residual = filleddata['propertycrime'] - predictions\n",
    "\n",
    "plt.hist(residual)\n",
    "plt.title('Residual Distribution')\n",
    "plt.xlabel('Residual')\n",
    "plt.ylabel('Count')\n",
    "plt.show()"
   ]
  },
  {
   "cell_type": "code",
   "execution_count": 30,
   "metadata": {},
   "outputs": [
    {
     "data": {
      "image/png": "[encoded data removed]",
      "text/plain": [
       "<Figure size 432x288 with 1 Axes>"
      ]
     },
     "metadata": {},
     "output_type": "display_data"
    }
   ],
   "source": [
    "f, ax = plt.subplots()\n",
    "plt.scatter(predictions, filleddata['propertycrime'])\n",
    "plt.title('predictions vs actual')\n",
    "plt.xlabel('predictions')\n",
    "plt.ylabel('actual')\n",
    "ax.plot(ax.get_xlim(), ax.get_ylim(), ls=\"-\", c=\".3\")\n",
    "plt.show()"
   ]
  },
  {
   "cell_type": "code",
   "execution_count": 31,
   "metadata": {},
   "outputs": [
    {
     "name": "stdout",
     "output_type": "stream",
     "text": [
      "Testing the model on the full dataset: 0.9925431962714344\n",
      "Testing the model on the heldout dataset: 0.5734410764412884\n"
     ]
    }
   ],
   "source": [
    "from sklearn.model_selection import train_test_split\n",
    "\n",
    "trainfeatures, testfeatures, trainresults, testresults = train_test_split(ind, dep, test_size = .2)\n",
    "\n",
    "print('Testing the model on the full dataset: ' + str(regmodel.fit(ind, dep).score(ind, dep)))\n",
    "print('Testing the model on the heldout dataset: '+str(regmodel.fit(trainfeatures, trainresults).score(testfeatures, testresults)))\n"
   ]
  },
  {
   "cell_type": "markdown",
   "metadata": {},
   "source": [
    "To begin with, the goal of the assignment was to predict the amount of property crime in each city, so I just picked features that seemed like they would be correlated with 'property crime,' to be honest, and I figured I would refine the model from there. However, somehow it made a perfect line through all the data points. It turns out that propertycrime is actually calculated by summing 4 of the other columns of the data table, 3 of which were included as features. The 4th column consisted of all 0s, so it had no impact anyway. In any case though, after creating this preliminary model, it turned out that all of the features were extremely highly correlated with each other as well as the result value. I ended up removing all of the features besides \"population\" since the other features were extraneous, and still retained an R^2 value greater than .99. "
   ]
  },
  {
   "cell_type": "code",
   "execution_count": null,
   "metadata": {},
   "outputs": [],
   "source": []
  }
 ],
 "metadata": {
  "kernelspec": {
   "display_name": "Python 3",
   "language": "python",
   "name": "python3"
  },
  "language_info": {
   "codemirror_mode": {
    "name": "ipython",
    "version": 3
   },
   "file_extension": ".py",
   "mimetype": "text/x-python",
   "name": "python",
   "nbconvert_exporter": "python",
   "pygments_lexer": "ipython3",
   "version": "3.6.5"
  }
 },
 "nbformat": 4,
 "nbformat_minor": 2
}
