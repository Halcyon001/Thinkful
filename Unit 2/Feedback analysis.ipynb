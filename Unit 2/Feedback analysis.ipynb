{
 "cells": [
  {
   "cell_type": "code",
   "execution_count": 1,
   "metadata": {},
   "outputs": [],
   "source": [
    "import numpy as np\n",
    "import pandas as pd\n",
    "import matplotlib.pyplot as plt\n",
    "import seaborn as sns\n",
    "import scipy\n",
    "import sklearn\n"
   ]
  },
  {
   "cell_type": "code",
   "execution_count": 10,
   "metadata": {},
   "outputs": [],
   "source": [
    "datapath = 'datasets/sentiment labelled sentences/amazon_cells_labelled.txt'\n",
    "\n",
    "reviews = pd.read_csv(datapath, sep = '\\t', header = None)"
   ]
  },
  {
   "cell_type": "code",
   "execution_count": 11,
   "metadata": {},
   "outputs": [
    {
     "name": "stdout",
     "output_type": "stream",
     "text": [
      "                                                   0  1\n",
      "0  So there is no way for me to plug it in here i...  0\n",
      "1                        Good case, Excellent value.  1\n",
      "2                             Great for the jawbone.  1\n",
      "3  Tied to charger for conversations lasting more...  0\n",
      "4                                  The mic is great.  1\n"
     ]
    }
   ],
   "source": [
    "print(reviews.head())"
   ]
  },
  {
   "cell_type": "code",
   "execution_count": 163,
   "metadata": {},
   "outputs": [],
   "source": [
    "datapath = 'datasets/sentiment labelled sentences/yelp_labelled.txt'\n",
    "\n",
    "reviews = pd.read_csv(datapath, sep = '\\t', header = None)\n",
    "reviews.columns = ['review', 'positive']"
   ]
  },
  {
   "cell_type": "code",
   "execution_count": 164,
   "metadata": {},
   "outputs": [
    {
     "name": "stdout",
     "output_type": "stream",
     "text": [
      "                                              review  positive\n",
      "0                           Wow... Loved this place.         1\n",
      "1                                 Crust is not good.         0\n",
      "2          Not tasty and the texture was just nasty.         0\n",
      "3  Stopped by during the late May bank holiday of...         1\n",
      "4  The selection on the menu was great and so wer...         1\n"
     ]
    }
   ],
   "source": [
    "print(reviews.head())"
   ]
  },
  {
   "cell_type": "code",
   "execution_count": 165,
   "metadata": {},
   "outputs": [
    {
     "name": "stdout",
     "output_type": "stream",
     "text": [
      "                                              review  positive\n",
      "0                           Wow... Loved this place.      True\n",
      "1                                 Crust is not good.     False\n",
      "2          Not tasty and the texture was just nasty.     False\n",
      "3  Stopped by during the late May bank holiday of...      True\n",
      "4  The selection on the menu was great and so wer...      True\n"
     ]
    }
   ],
   "source": [
    "reviews.positive = (reviews.positive == True)\n",
    "print(reviews.head())"
   ]
  },
  {
   "cell_type": "code",
   "execution_count": 166,
   "metadata": {},
   "outputs": [],
   "source": [
    "poswords = []\n",
    "poswordcount = []\n",
    "negwords = []\n",
    "negwordcount = []"
   ]
  },
  {
   "cell_type": "code",
   "execution_count": 167,
   "metadata": {},
   "outputs": [
    {
     "name": "stdout",
     "output_type": "stream",
     "text": [
      "['wow', 'loved', 'this', 'place', 'stopped']\n",
      "1254\n",
      "[3, 10, 77, 57, 2]\n",
      "1254\n"
     ]
    }
   ],
   "source": [
    "#instead of guessing which words are more common, we'll let the computer figure it out for us\n",
    "#we'll count unique words, separated by positive/negative sentiment, and see if there are some common ones\n",
    "#positive reviews first\n",
    "for sentence in reviews[reviews.positive==1].review:\n",
    "    wordlist = sentence.split()\n",
    "    #for each positive review, split it up into its words\n",
    "    for word in wordlist:\n",
    "        word = word.strip('.!?,\\';:+-()[]{}/@%$_')#remove special characters and only compare in lowercase\n",
    "        if word.lower() in poswords:#if we already recorded this word just increment the count of it\n",
    "            poswordcount[poswords.index(word.lower())] += 1\n",
    "        else:#if we haven't found this word before, add it to the list, and give it a count of 1\n",
    "            poswords.append(word.lower())\n",
    "            poswordcount.append(1)\n",
    "\n",
    "print(poswords[:5])\n",
    "print(len(poswords))\n",
    "print(poswordcount[:5])\n",
    "print(len(poswordcount))"
   ]
  },
  {
   "cell_type": "code",
   "execution_count": 168,
   "metadata": {},
   "outputs": [
    {
     "name": "stdout",
     "output_type": "stream",
     "text": [
      "['crust', 'is', 'not', 'good', 'tasty']\n",
      "1415\n",
      "[2, 67, 98, 22, 3]\n",
      "1415\n"
     ]
    }
   ],
   "source": [
    "#now for negative reviews\n",
    "for sentence in reviews[reviews.positive==0].review:\n",
    "    wordlist = sentence.split()\n",
    "    #for each negative review, split it up into its words\n",
    "    for word in wordlist:\n",
    "        word = word.strip('.!?,\\';:+-()[]{}/@%$_')#remove special characters and only compare in lowercase\n",
    "        if word.lower() in negwords:#if we already recorded this word just increment the count of it\n",
    "            negwordcount[negwords.index(word.lower())] += 1\n",
    "        else:#if we haven't found this word before, add it to the list, and give it a count of 1\n",
    "            negwords.append(word.lower())\n",
    "            negwordcount.append(1)\n",
    "            \n",
    "print(negwords[:5])\n",
    "print(len(negwords))\n",
    "print(negwordcount[:5])\n",
    "print(len(negwordcount))"
   ]
  },
  {
   "cell_type": "code",
   "execution_count": 169,
   "metadata": {},
   "outputs": [],
   "source": [
    "poswordframe = pd.DataFrame()\n",
    "poswordframe['poswords'] = poswords\n",
    "poswordframe['poswordcount'] = poswordcount\n",
    "\n",
    "negwordframe = pd.DataFrame()\n",
    "negwordframe['negwords'] = negwords\n",
    "negwordframe['negwordcount'] = negwordcount"
   ]
  },
  {
   "cell_type": "code",
   "execution_count": 170,
   "metadata": {},
   "outputs": [
    {
     "data": {
      "image/png": "[encoded data removed]",
      "text/plain": [
       "<matplotlib.figure.Figure at 0x156181f0>"
      ]
     },
     "metadata": {},
     "output_type": "display_data"
    },
    {
     "name": "stdout",
     "output_type": "stream",
     "text": [
      "avg pos word count: 4.1028708133971294\n",
      "avg neg word count: 4.062897526501767\n"
     ]
    }
   ],
   "source": [
    "plt.subplot(121)\n",
    "plt.title('Word Usage in Positive Reviews')\n",
    "sns.distplot(poswordframe.poswordcount)\n",
    "plt.subplot(122)\n",
    "plt.title('Word Usage in Negative Reviews')\n",
    "sns.distplot(negwordframe.negwordcount)\n",
    "plt.show()\n",
    "\n",
    "print('avg pos word count: ' + str((sum(poswordcount)/len(poswordcount))))\n",
    "print('avg neg word count: ' + str((sum(negwordcount)/len(negwordcount))))"
   ]
  },
  {
   "cell_type": "code",
   "execution_count": 171,
   "metadata": {},
   "outputs": [
    {
     "name": "stdout",
     "output_type": "stream",
     "text": [
      "  poswords  poswordcount\n",
      "1    loved            10\n",
      "2     this            77\n",
      "3    place            57\n",
      "5       by            11\n",
      "7      the           310\n",
      "  negwords  negwordcount\n",
      "1       is            67\n",
      "2      not            98\n",
      "3     good            22\n",
      "5      and           167\n",
      "6      the           274\n"
     ]
    }
   ],
   "source": [
    "#let's just see if we can get all the words used more than 5 times since thats above average usage in a review\n",
    "#if there aren't too many words, we'll use these as features, otherwise we'll cut down the number of words again\n",
    "commonposwords = poswordframe[poswordframe.poswordcount >= 5]\n",
    "commonnegwords = negwordframe[negwordframe.negwordcount >= 5]\n",
    "#commonposwords = commonposwords.sort_values(by='poswordcount', ascending=False)\n",
    "#commonnegwords = commonnegwords.sort_values(by='negwordcount', ascending=False)\n",
    "print(commonposwords.head())\n",
    "print(commonnegwords.head())"
   ]
  },
  {
   "cell_type": "code",
   "execution_count": 172,
   "metadata": {},
   "outputs": [],
   "source": [
    "shared = commonposwords.iloc[np.where(commonposwords.poswords.isin(commonnegwords.negwords))]\n",
    "uniquepos = commonposwords[~commonposwords.poswords.isin(commonnegwords.negwords)]\n",
    "uniqueneg = commonnegwords[~commonnegwords.negwords.isin(commonposwords.poswords)]"
   ]
  },
  {
   "cell_type": "code",
   "execution_count": 173,
   "metadata": {},
   "outputs": [
    {
     "data": {
      "text/plain": [
       "\"\\nkeywords = ['click', 'offer', 'winner', 'buy', 'free', 'cash', 'urgent', 'important']\\n\\nfor key in keywords:\\n    # Note that we add spaces around the key so that we're getting the word,\\n    # not just pattern matching.\\n    sms_raw[str(key)] = sms_raw.message.str.contains(\\n        ' ' + str(key) + ' ',\\n        case=False\\n    )\\n\""
      ]
     },
     "execution_count": 173,
     "metadata": {},
     "output_type": "execute_result"
    }
   ],
   "source": [
    "'''\n",
    "keywords = ['click', 'offer', 'winner', 'buy', 'free', 'cash', 'urgent', 'important']\n",
    "\n",
    "for key in keywords:\n",
    "    # Note that we add spaces around the key so that we're getting the word,\n",
    "    # not just pattern matching.\n",
    "    sms_raw[str(key)] = sms_raw.message.str.contains(\n",
    "        ' ' + str(key) + ' ',\n",
    "        case=False\n",
    "    )\n",
    "'''"
   ]
  },
  {
   "cell_type": "code",
   "execution_count": 174,
   "metadata": {},
   "outputs": [
    {
     "name": "stdout",
     "output_type": "stream",
     "text": [
      "                                              review  positive  loved  \\\n",
      "0                           Wow... Loved this place.      True   True   \n",
      "1                                 Crust is not good.     False  False   \n",
      "2          Not tasty and the texture was just nasty.     False  False   \n",
      "3  Stopped by during the late May bank holiday of...      True   True   \n",
      "4  The selection on the menu was great and so wer...      True  False   \n",
      "\n",
      "   selection   menu  great  prices  tried  amazing  friendly  ...    twice  \\\n",
      "0      False  False  False   False  False    False     False  ...    False   \n",
      "1      False  False  False   False  False    False     False  ...    False   \n",
      "2      False  False  False   False  False    False     False  ...    False   \n",
      "3      False  False  False   False  False    False     False  ...    False   \n",
      "4       True   True   True    True  False    False     False  ...    False   \n",
      "\n",
      "   absolutely  reasonable  happy  perfect  family  enjoyed    bar  awesome  \\\n",
      "0       False       False  False    False   False    False  False    False   \n",
      "1       False       False  False    False   False    False  False    False   \n",
      "2       False       False  False    False   False    False  False    False   \n",
      "3       False       False  False    False   False    False  False    False   \n",
      "4       False       False  False    False   False    False  False    False   \n",
      "\n",
      "   super  \n",
      "0  False  \n",
      "1  False  \n",
      "2  False  \n",
      "3  False  \n",
      "4  False  \n",
      "\n",
      "[5 rows x 67 columns]\n"
     ]
    }
   ],
   "source": [
    "for posword in uniquepos.poswords:\n",
    "    reviews[posword] = reviews.review.str.contains(posword, case=False)\n",
    "print(reviews.head())"
   ]
  },
  {
   "cell_type": "code",
   "execution_count": 175,
   "metadata": {},
   "outputs": [
    {
     "name": "stdout",
     "output_type": "stream",
     "text": [
      "                                              review  positive  loved  \\\n",
      "0                           Wow... Loved this place.      True   True   \n",
      "1                                 Crust is not good.     False  False   \n",
      "2          Not tasty and the texture was just nasty.     False  False   \n",
      "3  Stopped by during the late May bank holiday of...      True   True   \n",
      "4  The selection on the menu was great and so wer...      True  False   \n",
      "\n",
      "   selection   menu  great  prices  tried  amazing  friendly   ...    done  \\\n",
      "0      False  False  False   False  False    False     False   ...    True   \n",
      "1      False  False  False   False  False    False     False   ...    True   \n",
      "2      False  False  False   False  False    False     False   ...    True   \n",
      "3      False  False  False   False  False    False     False   ...    True   \n",
      "4       True   True   True    True  False    False     False   ...    True   \n",
      "\n",
      "   fries  terrible  after  anytime  long   two  tasted  dishes  barely  \n",
      "0   True      True   True     True  True  True    True    True    True  \n",
      "1   True      True   True     True  True  True    True    True    True  \n",
      "2   True      True   True     True  True  True    True    True    True  \n",
      "3   True      True   True     True  True  True    True    True    True  \n",
      "4   True      True   True     True  True  True    True    True    True  \n",
      "\n",
      "[5 rows x 161 columns]\n"
     ]
    }
   ],
   "source": [
    "for negword in uniqueneg.negwords:\n",
    "    reviews[negword] = ~reviews.review.str.contains(negword, case=False)\n",
    "print(reviews.head())"
   ]
  },
  {
   "cell_type": "code",
   "execution_count": 178,
   "metadata": {},
   "outputs": [],
   "source": [
    "features = reviews[uniquepos.poswords.tolist() + uniqueneg.negwords.tolist()]\n",
    "results = reviews.positive"
   ]
  },
  {
   "cell_type": "code",
   "execution_count": 179,
   "metadata": {},
   "outputs": [
    {
     "data": {
      "text/plain": [
       "BernoulliNB(alpha=1.0, binarize=0.0, class_prior=None, fit_prior=True)"
      ]
     },
     "execution_count": 179,
     "metadata": {},
     "output_type": "execute_result"
    }
   ],
   "source": [
    "from sklearn.naive_bayes import BernoulliNB\n",
    "\n",
    "model = BernoulliNB()\n",
    "\n",
    "model.fit(features, results)"
   ]
  },
  {
   "cell_type": "code",
   "execution_count": 180,
   "metadata": {},
   "outputs": [
    {
     "name": "stdout",
     "output_type": "stream",
     "text": [
      "Total reviews: 1000\n",
      "Correct predictions : 833\n"
     ]
    }
   ],
   "source": [
    "predictions = model.predict(features)\n",
    "\n",
    "print('Total reviews: ' + str(features.shape[0]))\n",
    "print('Correct predictions : ' + str((results==predictions).sum()))"
   ]
  },
  {
   "cell_type": "markdown",
   "metadata": {},
   "source": [
    "Well, it works with 81.6 percent accuracy for the amazon reviews. I guess that's ok. \n",
    "After trying it on the yelp reviews, the same approach had 83.3% accuracy when used to predict the training data.\n",
    "(I point out that it is predicting the training data because this does not guarantee that it will work on other data)"
   ]
  }
 ],
 "metadata": {
  "kernelspec": {
   "display_name": "Python 3",
   "language": "python",
   "name": "python3"
  },
  "language_info": {
   "codemirror_mode": {
    "name": "ipython",
    "version": 3
   },
   "file_extension": ".py",
   "mimetype": "text/x-python",
   "name": "python",
   "nbconvert_exporter": "python",
   "pygments_lexer": "ipython3",
   "version": "3.6.4"
  }
 },
 "nbformat": 4,
 "nbformat_minor": 2
}
