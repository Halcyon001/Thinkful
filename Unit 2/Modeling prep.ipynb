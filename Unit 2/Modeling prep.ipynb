{
 "cells": [
  {
   "cell_type": "code",
   "execution_count": 1,
   "metadata": {},
   "outputs": [],
   "source": [
    "import numpy as np\n",
    "import pandas as pd\n",
    "import matplotlib.pyplot as plt\n",
    "import seaborn as sns\n",
    "import scipy.stats as stats\n",
    "\n",
    "sns.set_style('white')"
   ]
  },
  {
   "cell_type": "markdown",
   "metadata": {},
   "source": [
    "# select an outcome variable and then pick four or five other variables (one to two categorical, three to four continuous) to act as the basis for features.\n",
    "\n",
    "### outcome variable: Sales (per region) (all listed in millions of units)\n",
    "### categorical variables: platform, genre, publisher, developer\n",
    "### continuous variables: release year, critic score, user score"
   ]
  },
  {
   "cell_type": "code",
   "execution_count": 2,
   "metadata": {},
   "outputs": [
    {
     "name": "stdout",
     "output_type": "stream",
     "text": [
      "                       Name Platform  Year_of_Release         Genre Publisher  \\\n",
      "0                Wii Sports      Wii           2006.0        Sports  Nintendo   \n",
      "1         Super Mario Bros.      NES           1985.0      Platform  Nintendo   \n",
      "2            Mario Kart Wii      Wii           2008.0        Racing  Nintendo   \n",
      "3         Wii Sports Resort      Wii           2009.0        Sports  Nintendo   \n",
      "4  Pokemon Red/Pokemon Blue       GB           1996.0  Role-Playing  Nintendo   \n",
      "\n",
      "   NA_Sales  EU_Sales  JP_Sales  Other_Sales  Global_Sales  Critic_Score  \\\n",
      "0     41.36     28.96      3.77         8.45         82.53          76.0   \n",
      "1     29.08      3.58      6.81         0.77         40.24           NaN   \n",
      "2     15.68     12.76      3.79         3.29         35.52          82.0   \n",
      "3     15.61     10.93      3.28         2.95         32.77          80.0   \n",
      "4     11.27      8.89     10.22         1.00         31.37           NaN   \n",
      "\n",
      "   Critic_Count User_Score  User_Count Developer Rating  \n",
      "0          51.0          8       322.0  Nintendo      E  \n",
      "1           NaN        NaN         NaN       NaN    NaN  \n",
      "2          73.0        8.3       709.0  Nintendo      E  \n",
      "3          73.0          8       192.0  Nintendo      E  \n",
      "4           NaN        NaN         NaN       NaN    NaN  \n"
     ]
    }
   ],
   "source": [
    "salesdata = pd.read_csv('datasets/Video_Games_Sales_as_at_22_Dec_2016.csv')\n",
    "\n",
    "print(salesdata.head())"
   ]
  },
  {
   "cell_type": "code",
   "execution_count": 18,
   "metadata": {},
   "outputs": [],
   "source": [
    "pubs = salesdata.Publisher.value_counts()\n",
    "big_pubs = pubs.loc[pubs > 200]\n"
   ]
  },
  {
   "cell_type": "code",
   "execution_count": 68,
   "metadata": {},
   "outputs": [
    {
     "name": "stderr",
     "output_type": "stream",
     "text": [
      "c:\\users\\hal\\appdata\\local\\programs\\python\\python36-32\\lib\\site-packages\\seaborn\\axisgrid.py:703: UserWarning: Using the boxplot function without specifying `order` is likely to produce an incorrect plot.\n",
      "  warnings.warn(warning)\n"
     ]
    },
    {
     "data": {
      "image/png": "[encoded data removed]",
      "text/plain": [
       "<matplotlib.figure.Figure at 0x152677d0>"
      ]
     },
     "metadata": {},
     "output_type": "display_data"
    },
    {
     "name": "stdout",
     "output_type": "stream",
     "text": [
      "               count      mean       std   min     25%   50%     75%    max\n",
      "Genre                                                                      \n",
      "Action        3370.0  0.517884  1.145299  0.01  0.0700  0.19  0.4900  21.04\n",
      "Adventure     1303.0  0.182417  0.508225  0.01  0.0200  0.05  0.1500  11.18\n",
      "Fighting       849.0  0.527067  0.952269  0.01  0.0800  0.20  0.5400  12.84\n",
      "Misc          1750.0  0.458960  1.304616  0.01  0.0600  0.16  0.4000  28.92\n",
      "Platform       888.0  0.932523  2.574186  0.01  0.0900  0.27  0.7825  40.24\n",
      "Puzzle         580.0  0.419000  1.562478  0.01  0.0400  0.11  0.3025  30.26\n",
      "Racing        1249.0  0.583587  1.656589  0.01  0.0700  0.19  0.5300  35.52\n",
      "Role-Playing  1500.0  0.622933  1.709250  0.01  0.0675  0.18  0.5200  31.37\n",
      "Shooter       1323.0  0.795873  1.815998  0.01  0.0800  0.23  0.7250  28.31\n",
      "Simulation     874.0  0.446705  1.186065  0.01  0.0500  0.15  0.4200  24.67\n",
      "Sports        2348.0  0.567291  2.084460  0.01  0.0900  0.22  0.5525  82.53\n",
      "Strategy       683.0  0.255490  0.519017  0.01  0.0400  0.09  0.2700   5.45\n"
     ]
    }
   ],
   "source": [
    "#boxplots of the data sorted by platform, genre, and publisher\n",
    "\n",
    "grid = sns.FacetGrid(salesdata, col='Genre', size = 3, aspect = .5, xlim=(0, 1), col_wrap=6)\n",
    "grid = grid.map(sns.boxplot, 'Global_Sales')\n",
    "plt.show()\n",
    "\n",
    "print(salesdata.groupby('Genre')['Global_Sales'].describe())"
   ]
  },
  {
   "cell_type": "code",
   "execution_count": null,
   "metadata": {},
   "outputs": [],
   "source": []
  }
 ],
 "metadata": {
  "kernelspec": {
   "display_name": "Python 3",
   "language": "python",
   "name": "python3"
  },
  "language_info": {
   "codemirror_mode": {
    "name": "ipython",
    "version": 3
   },
   "file_extension": ".py",
   "mimetype": "text/x-python",
   "name": "python",
   "nbconvert_exporter": "python",
   "pygments_lexer": "ipython3",
   "version": "3.6.5"
  }
 },
 "nbformat": 4,
 "nbformat_minor": 2
}
