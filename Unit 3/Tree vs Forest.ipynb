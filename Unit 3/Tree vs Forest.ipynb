{
 "cells": [
  {
   "cell_type": "code",
   "execution_count": 1,
   "metadata": {},
   "outputs": [],
   "source": [
    "import numpy as np\n",
    "import pandas as pd\n",
    "import matplotlib.pyplot as plt\n",
    "from sklearn import ensemble\n",
    "from sklearn.model_selection import cross_val_score\n",
    "%matplotlib inline\n"
   ]
  },
  {
   "cell_type": "markdown",
   "metadata": {},
   "source": [
    "Pick a dataset. It could be one you've worked with before or it could be a new one. Then build the best decision tree you can.\n",
    "\n",
    "Now try to match that with the simplest random forest you can. For our purposes measure simplicity with runtime. Compare that to the runtime of the decision tree. This is imperfect but just go with it.\n",
    "\n",
    "Runtime: https://stackoverflow.com/questions/1557571/how-do-i-get-time-of-a-python-programs-execution"
   ]
  },
  {
   "cell_type": "code",
   "execution_count": 2,
   "metadata": {},
   "outputs": [
    {
     "name": "stdout",
     "output_type": "stream",
     "text": [
      "(9551, 21)\n",
      "Index(['Restaurant_ID', 'Restaurant_Name', 'Country_Code', 'City', 'Address',\n",
      "       'Locality', 'Locality_Verbose', 'Longitude', 'Latitude', 'Cuisines',\n",
      "       'Average_Cost_for_two', 'Currency', 'Has_Table_booking',\n",
      "       'Has_Online_delivery', 'Is_delivering_now', 'Switch_to_order_menu',\n",
      "       'Price_range', 'Aggregate_rating', 'Rating_color', 'Rating_text',\n",
      "       'Votes', 'Country'],\n",
      "      dtype='object')\n",
      "['Botswana Pula(P)' 'Brazilian Real(R$)' 'Dollar($)' 'Emirati Diram(AED)'\n",
      " 'Indian Rupees(Rs.)' 'Indonesian Rupiah(IDR)' 'NewZealand($)'\n",
      " 'Pounds(\\x8c£)' 'Qatari Rial(QR)' 'Rand(R)' 'Sri Lankan Rupee(LKR)'\n",
      " 'Turkish Lira(TL)']\n"
     ]
    }
   ],
   "source": [
    "zomato = pd.read_csv('../datasets/zomato/zomato.csv', encoding='ISO-8859-1')\n",
    "zomato.columns = zomato.columns.str.replace('\\s+', '_')\n",
    "print(zomato.shape)\n",
    "countries = {\n",
    "    1 : 'India',\n",
    "    14 : 'Australia',\n",
    "    30 : 'Brazil',\n",
    "    37 : 'Canada',\n",
    "    94 : 'Indonesia',\n",
    "    148 : 'New Zealand',\n",
    "    162 : 'Philippines',\n",
    "    166 : 'Qatar',\n",
    "    184 : 'Singapore',\n",
    "    189 : 'South Africa',\n",
    "    191 : 'Sri Lanka',\n",
    "    208 : 'Turkey',\n",
    "    214 : 'UAE',\n",
    "    215 : 'United Kingdom',\n",
    "    216 : 'United States'\n",
    "}\n",
    "\n",
    "zomato['Country'] = [countries[code] for code in zomato['Country_Code']]\n",
    "print(zomato.columns)\n",
    "print(zomato.Currency.unique())"
   ]
  },
  {
   "cell_type": "code",
   "execution_count": 7,
   "metadata": {},
   "outputs": [
    {
     "name": "stdout",
     "output_type": "stream",
     "text": [
      "['Excellent' 'Very Good' 'Good' 'Average' 'Not rated' 'Poor']\n"
     ]
    }
   ],
   "source": [
    "print(zomato.Rating_text.unique())"
   ]
  },
  {
   "cell_type": "code",
   "execution_count": 5,
   "metadata": {},
   "outputs": [],
   "source": [
    "'''#currency translations\n",
    "1 pula = 0.096 usd\n",
    "1 real = .27 usd\n",
    "1 dollar = 1 dollar\n",
    "1 emirati diram = .27 usd\n",
    "1 indian rupee = .015 usd\n",
    "1 rupiah = .000072 usd\n",
    "1 NZ dollar = .69 usd\n",
    "1 pound = 1.32 usd\n",
    "1 rial = .27 usd\n",
    "1 rand = .073 usd\n",
    "1 sri lankan rupee = .0063 usd\n",
    "1 lira = .21 usd\n",
    "'''\n",
    "currtrans = dict(zip(zomato.Currency.unique(), [.096, .27, 1, .27, .015, .000072, .69, 1.32, .27, .073, .0063, .21]))\n",
    "\n",
    "scaled_costs = []\n",
    "i = 0\n",
    "while i < len(zomato.index):\n",
    "    scaled_costs.append(zomato.iloc[i]['Average_Cost_for_two']*currtrans[zomato.iloc[i]['Currency']])\n",
    "    i+=1\n",
    "zomato['Scaled_Cost'] = scaled_costs"
   ]
  },
  {
   "cell_type": "code",
   "execution_count": 8,
   "metadata": {},
   "outputs": [
    {
     "name": "stdout",
     "output_type": "stream",
     "text": [
      "Index(['Restaurant_ID', 'Restaurant_Name', 'Country_Code', 'City', 'Address',\n",
      "       'Locality', 'Locality_Verbose', 'Longitude', 'Latitude', 'Cuisines',\n",
      "       'Average_Cost_for_two', 'Currency', 'Has_Table_booking',\n",
      "       'Has_Online_delivery', 'Is_delivering_now', 'Switch_to_order_menu',\n",
      "       'Price_range', 'Aggregate_rating', 'Rating_color', 'Rating_text',\n",
      "       'Votes', 'Country', 'Scaled_Cost'],\n",
      "      dtype='object')\n"
     ]
    }
   ],
   "source": [
    "print(zomato.columns)"
   ]
  },
  {
   "cell_type": "code",
   "execution_count": 43,
   "metadata": {},
   "outputs": [
    {
     "data": {
      "text/plain": [
       "DecisionTreeClassifier(class_weight=None, criterion='entropy', max_depth=20,\n",
       "            max_features=1, max_leaf_nodes=None, min_impurity_decrease=0.0,\n",
       "            min_impurity_split=None, min_samples_leaf=1,\n",
       "            min_samples_split=2, min_weight_fraction_leaf=0.0,\n",
       "            presort=False, random_state=None, splitter='best')"
      ]
     },
     "execution_count": 43,
     "metadata": {},
     "output_type": "execute_result"
    }
   ],
   "source": [
    "#now time to make a decision tree\n",
    "from sklearn import tree\n",
    "zomato_tree = tree.DecisionTreeClassifier(\n",
    "    criterion='entropy',\n",
    "    max_features=1,\n",
    "    max_depth=20\n",
    ")\n",
    "\n",
    "predicted_correlations = ['Country', 'City', 'Locality', 'Cuisines', 'Scaled_Cost', 'Has_Table_booking', 'Has_Online_delivery',\n",
    "            'Switch_to_order_menu', 'Price_range']\n",
    "\n",
    "X = pd.get_dummies(zomato)\n",
    "Y = zomato.Rating_text\n",
    "\n",
    "zomato_tree.fit(X, Y)"
   ]
  },
  {
   "cell_type": "code",
   "execution_count": 44,
   "metadata": {},
   "outputs": [
    {
     "data": {
      "text/plain": [
       "RandomForestClassifier(bootstrap=True, class_weight=None, criterion='gini',\n",
       "            max_depth=None, max_features='auto', max_leaf_nodes=None,\n",
       "            min_impurity_decrease=0.0, min_impurity_split=None,\n",
       "            min_samples_leaf=1, min_samples_split=2,\n",
       "            min_weight_fraction_leaf=0.0, n_estimators=10, n_jobs=1,\n",
       "            oob_score=False, random_state=None, verbose=0,\n",
       "            warm_start=False)"
      ]
     },
     "execution_count": 44,
     "metadata": {},
     "output_type": "execute_result"
    }
   ],
   "source": [
    "from sklearn import ensemble\n",
    "from sklearn.model_selection import cross_val_score\n",
    "\n",
    "zomato_forest = ensemble.RandomForestClassifier()\n",
    "zomato_forest.fit(X, Y)"
   ]
  },
  {
   "cell_type": "code",
   "execution_count": 45,
   "metadata": {},
   "outputs": [],
   "source": [
    "import time"
   ]
  },
  {
   "cell_type": "code",
   "execution_count": 49,
   "metadata": {},
   "outputs": [
    {
     "name": "stdout",
     "output_type": "stream",
     "text": [
      "Decision tree:\n",
      "[0.38871473 0.39016736 0.39121339 0.39644351 0.39121339 0.39121339\n",
      " 0.3895288  0.39098532 0.39139559 0.41071429]\n",
      "Runtime:\n",
      "--- 16.481951236724854 seconds ---\n",
      "Random forest:\n",
      "[0.82873851 0.99832776 1.         1.         1.         0.99748322\n",
      " 1.         0.98236776]\n",
      "Runtime:\n",
      "--- 24.478501081466675 seconds ---\n"
     ]
    }
   ],
   "source": [
    "print('Decision tree:')\n",
    "start_time = time.time()\n",
    "print(cross_val_score(zomato_tree, X, Y, cv=10))\n",
    "print('Runtime:')\n",
    "print(\"--- %s seconds ---\" % (time.time() - start_time))\n",
    "\n",
    "print('Random forest:')\n",
    "start_time = time.time()\n",
    "print(cross_val_score(zomato_forest, X, Y, cv=8))\n",
    "print('Runtime:')\n",
    "print(\"--- %s seconds ---\" % (time.time() - start_time))\n"
   ]
  },
  {
   "cell_type": "markdown",
   "metadata": {},
   "source": [
    "Going with the simplistic runtime comparison, it's taken the random forest model twice as long as the decision tree to run, but also with more than twice the accuracy. I'm still worried about overfitting though since the cross value scores are so high on the random forest. I think a score of 1 should be impossible, but I've seen it occur multiple times. But, the power of the random forest results in a much higher accuracy regardless."
   ]
  }
 ],
 "metadata": {
  "kernelspec": {
   "display_name": "Python 3",
   "language": "python",
   "name": "python3"
  },
  "language_info": {
   "codemirror_mode": {
    "name": "ipython",
    "version": 3
   },
   "file_extension": ".py",
   "mimetype": "text/x-python",
   "name": "python",
   "nbconvert_exporter": "python",
   "pygments_lexer": "ipython3",
   "version": "3.6.5"
  }
 },
 "nbformat": 4,
 "nbformat_minor": 2
}
