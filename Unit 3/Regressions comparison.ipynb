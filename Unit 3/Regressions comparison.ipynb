{
 "cells": [
  {
   "cell_type": "code",
   "execution_count": 37,
   "metadata": {},
   "outputs": [],
   "source": [
    "import numpy as np\n",
    "import pandas as pd\n",
    "import matplotlib.pyplot as plt\n",
    "import seaborn as sns\n",
    "import sklearn\n",
    "import math\n",
    "import random\n",
    "from sklearn import preprocessing\n",
    "from sklearn import linear_model\n",
    "from sklearn.model_selection import train_test_split\n",
    "from sklearn.model_selection import GridSearchCV\n",
    "from sklearn.model_selection import cross_val_score\n",
    "from sklearn.svm import SVC\n",
    "%matplotlib inline\n",
    "sns.set_style('white')"
   ]
  },
  {
   "cell_type": "markdown",
   "metadata": {},
   "source": [
    "This notebook is meant to illustrate the differences between a logistic regression model vs a ridge regression model vs a LASSO regression model"
   ]
  },
  {
   "cell_type": "code",
   "execution_count": 2,
   "metadata": {},
   "outputs": [],
   "source": [
    "vadata = pd.read_excel('../datasets/offensesknowntopolice/table_8_offenses_known_to_law_enforcement_virginia_by_city_2013.xls')\n",
    "\n",
    "vadata = vadata.drop([len(vadata.index)-2, len(vadata.index)-1])\n",
    "vadata = vadata.drop(range(0,4))\n",
    "\n",
    "colnames = ['city','population','violentcrime','murder','revisedrape','legacyrape','robbery','aggravatedassault','propertycrime','burglary','larceny','autotheft','arson']\n",
    "vadata.columns = colnames\n",
    "vadata = vadata.fillna(value='0')"
   ]
  },
  {
   "cell_type": "code",
   "execution_count": 3,
   "metadata": {},
   "outputs": [],
   "source": [
    "#replace all these freaking strings with ints by removing the commas\n",
    "def remove_commas(x):\n",
    "    return str(x).replace(',','')\n",
    "\n",
    "vadata = vadata.applymap(remove_commas)"
   ]
  },
  {
   "cell_type": "code",
   "execution_count": 4,
   "metadata": {},
   "outputs": [],
   "source": [
    "#change the data type of all the numerical data to a float\n",
    "def makefloat(x):\n",
    "    if str(x).isdigit():\n",
    "        return float(x)\n",
    "    else:\n",
    "        return(x)\n",
    "\n",
    "vadata = vadata.applymap(makefloat)"
   ]
  },
  {
   "cell_type": "code",
   "execution_count": 5,
   "metadata": {},
   "outputs": [],
   "source": [
    "murderbools = []\n",
    "robberybools = []\n",
    "violentbools = []\n",
    "for val in vadata['murder']:\n",
    "    murderbools.append(val > 0)\n",
    "for val in vadata['robbery']:\n",
    "    robberybools.append(val > 0)\n",
    "for val in vadata['violentcrime']:\n",
    "    violentbools.append(val > 0)\n",
    "    \n",
    "vadata['murderbool'] = murderbools \n",
    "vadata['robberybool'] = robberybools\n",
    "vadata['violentbool'] = violentbools"
   ]
  },
  {
   "cell_type": "code",
   "execution_count": 6,
   "metadata": {},
   "outputs": [
    {
     "data": {
      "text/plain": [
       "<matplotlib.axes._subplots.AxesSubplot at 0x132db028080>"
      ]
     },
     "execution_count": 6,
     "metadata": {},
     "output_type": "execute_result"
    },
    {
     "data": {
      "image/png": "[encoded data removed]",
      "text/plain": [
       "<Figure size 432x288 with 2 Axes>"
      ]
     },
     "metadata": {},
     "output_type": "display_data"
    }
   ],
   "source": [
    "sns.heatmap(vadata.corr())"
   ]
  },
  {
   "cell_type": "code",
   "execution_count": 7,
   "metadata": {},
   "outputs": [],
   "source": [
    "vadata = vadata.drop('legacyrape', 1)"
   ]
  },
  {
   "cell_type": "code",
   "execution_count": 8,
   "metadata": {},
   "outputs": [],
   "source": [
    "#there were some pretty big correlations in the heatmap, better drop some of them\n",
    "corrmat = vadata.corr()\n",
    "upper = corrmat.where(np.triu(np.ones(corrmat.shape), k=1).astype(np.bool))\n",
    "\n",
    "to_drop = [column for column in upper.columns if any(upper[column] > 0.95)]"
   ]
  },
  {
   "cell_type": "code",
   "execution_count": 9,
   "metadata": {},
   "outputs": [],
   "source": [
    "vadata = vadata.drop(to_drop, 1)"
   ]
  },
  {
   "cell_type": "code",
   "execution_count": 10,
   "metadata": {},
   "outputs": [],
   "source": [
    "vadata = vadata.drop('city', 1)"
   ]
  },
  {
   "cell_type": "code",
   "execution_count": 11,
   "metadata": {},
   "outputs": [],
   "source": [
    "#better scale the data first before splitting it up into train and test sets\n",
    "bools = ['murderbool', 'robberybool', 'violentbool']\n",
    "colnames = vadata.drop(bools, 1).columns\n",
    "scaled_data = pd.DataFrame(preprocessing.scale(vadata.drop(bools, 1)), columns=colnames)\n",
    "for label in bools:\n",
    "    list_of_bools = vadata.loc[:, label].values\n",
    "    scaled_data[label] = list_of_bools"
   ]
  },
  {
   "cell_type": "code",
   "execution_count": 12,
   "metadata": {},
   "outputs": [],
   "source": [
    "#now that we dropped highly correlated features, split the data into training and test sets\n",
    "#the split will be 50/50\n",
    "#then we will train 3 models on the training set, with the target outcome variable of violentbool\n",
    "#violentbool is true if violent crime has occurred in the city\n",
    "X = scaled_data.drop('violentbool', 1)\n",
    "\n",
    "Y = scaled_data.violentbool\n",
    "\n",
    "x_train, x_test, y_train, y_test = train_test_split(X, Y, test_size=.5, random_state=0)"
   ]
  },
  {
   "cell_type": "code",
   "execution_count": 13,
   "metadata": {},
   "outputs": [
    {
     "data": {
      "text/plain": [
       "LogisticRegression(C=1.0, class_weight=None, dual=False, fit_intercept=True,\n",
       "          intercept_scaling=1, max_iter=100, multi_class='ovr', n_jobs=1,\n",
       "          penalty='l2', random_state=None, solver='liblinear', tol=0.0001,\n",
       "          verbose=0, warm_start=False)"
      ]
     },
     "execution_count": 13,
     "metadata": {},
     "output_type": "execute_result"
    }
   ],
   "source": [
    "#then train some models on the training data set\n",
    "#first, logistic regression\n",
    "logregl1 = linear_model.LogisticRegression(penalty='l1')\n",
    "logregl2 = linear_model.LogisticRegression()#penalty is 'l2' by default\n",
    "\n",
    "logregl1.fit(x_train, y_train)\n",
    "logregl2.fit(x_train, y_train)"
   ]
  },
  {
   "cell_type": "code",
   "execution_count": 14,
   "metadata": {},
   "outputs": [
    {
     "data": {
      "text/plain": [
       "Ridge(alpha=1, copy_X=True, fit_intercept=True, max_iter=None,\n",
       "   normalize=False, random_state=None, solver='auto', tol=0.001)"
      ]
     },
     "execution_count": 14,
     "metadata": {},
     "output_type": "execute_result"
    }
   ],
   "source": [
    "#second, ridge regression\n",
    "ridgereg = linear_model.Ridge(alpha=1)\n",
    "\n",
    "ridgereg.fit(x_train, y_train)"
   ]
  },
  {
   "cell_type": "code",
   "execution_count": 15,
   "metadata": {},
   "outputs": [
    {
     "data": {
      "text/plain": [
       "Lasso(alpha=1, copy_X=True, fit_intercept=True, max_iter=1000,\n",
       "   normalize=False, positive=False, precompute=False, random_state=None,\n",
       "   selection='cyclic', tol=0.0001, warm_start=False)"
      ]
     },
     "execution_count": 15,
     "metadata": {},
     "output_type": "execute_result"
    }
   ],
   "source": [
    "#third, lasso regression\n",
    "lassoreg = linear_model.Lasso(alpha=1)\n",
    "\n",
    "lassoreg.fit(x_train, y_train)"
   ]
  },
  {
   "cell_type": "code",
   "execution_count": 24,
   "metadata": {},
   "outputs": [
    {
     "data": {
      "text/plain": [
       "GridSearchCV(cv=5, error_score='raise',\n",
       "       estimator=Lasso(alpha=1, copy_X=True, fit_intercept=True, max_iter=1000,\n",
       "   normalize=False, positive=False, precompute=False, random_state=None,\n",
       "   selection='cyclic', tol=0.0001, warm_start=False),\n",
       "       fit_params=None, iid=True, n_jobs=1,\n",
       "       param_grid={'alpha': [0.1, 0.5, 1, 5, 10, 50, 100, 500, 1000]},\n",
       "       pre_dispatch='2*n_jobs', refit=True, return_train_score='warn',\n",
       "       scoring='r2', verbose=0)"
      ]
     },
     "execution_count": 24,
     "metadata": {},
     "output_type": "execute_result"
    }
   ],
   "source": [
    "#then test the alpha values for the ridge and lasso sets\n",
    "alphas = [.1, .5, 1, 5, 10, 50, 100, 500, 1000]\n",
    "param_grid = {'alpha' : alphas}\n",
    "\n",
    "ridge_optimization = GridSearchCV(ridgereg, param_grid, cv=5, scoring='r2')\n",
    "lasso_optimization = GridSearchCV(lassoreg, param_grid, cv=5, scoring='r2')\n",
    "\n",
    "ridge_optimization.fit(x_train, y_train)\n",
    "lasso_optimization.fit(x_train, y_train)"
   ]
  },
  {
   "cell_type": "code",
   "execution_count": 25,
   "metadata": {},
   "outputs": [
    {
     "name": "stdout",
     "output_type": "stream",
     "text": [
      "Best Ridge parameter: {'alpha': 1}\n",
      "Best Lasso parameter: {'alpha': 0.1}\n"
     ]
    }
   ],
   "source": [
    "print('Best Ridge parameter: ' + str(ridge_optimization.best_params_))\n",
    "print('Best Lasso parameter: ' + str(lasso_optimization.best_params_))"
   ]
  },
  {
   "cell_type": "code",
   "execution_count": 34,
   "metadata": {},
   "outputs": [
    {
     "data": {
      "text/plain": [
       "dict_keys(['alpha', 'copy_X', 'fit_intercept', 'max_iter', 'normalize', 'random_state', 'solver', 'tol'])"
      ]
     },
     "execution_count": 34,
     "metadata": {},
     "output_type": "execute_result"
    }
   ],
   "source": [
    "ridgereg.get_params().keys()"
   ]
  },
  {
   "cell_type": "code",
   "execution_count": 36,
   "metadata": {},
   "outputs": [
    {
     "data": {
      "text/plain": [
       "Lasso(alpha=0.1, copy_X=True, fit_intercept=True, max_iter=1000,\n",
       "   normalize=False, positive=False, precompute=False, random_state=None,\n",
       "   selection='cyclic', tol=0.0001, warm_start=False)"
      ]
     },
     "execution_count": 36,
     "metadata": {},
     "output_type": "execute_result"
    }
   ],
   "source": [
    "ridgereg.set_params(**ridge_optimization.best_params_)\n",
    "lassoreg.set_params(**lasso_optimization.best_params_)\n",
    "\n",
    "ridgereg.fit(x_train, y_train)\n",
    "lassoreg.fit(x_train, y_train)"
   ]
  },
  {
   "cell_type": "code",
   "execution_count": 40,
   "metadata": {},
   "outputs": [
    {
     "name": "stdout",
     "output_type": "stream",
     "text": [
      "Mean R^2 Logistic Regression with L1 Penalties\n",
      "0.8277777777777777\n",
      "Mean R^2 Logistic Regression with L2 Penalties\n",
      "0.8277777777777777\n"
     ]
    }
   ],
   "source": [
    "#cross validate both logistic regression models\n",
    "print('Mean R^2 Logistic Regression with L1 Penalties')\n",
    "print(np.mean(cross_val_score(logregl1, x_train, y_train, cv=10)))\n",
    "print('Mean R^2 Logistic Regression with L2 Penalties')\n",
    "print(np.mean(cross_val_score(logregl2, x_train, y_train, cv=10)))"
   ]
  },
  {
   "cell_type": "markdown",
   "metadata": {},
   "source": [
    "Looks like it doesn't matter which parameter the logistic model takes, we'll just use the L2 since it's the default"
   ]
  },
  {
   "cell_type": "code",
   "execution_count": 41,
   "metadata": {},
   "outputs": [
    {
     "name": "stdout",
     "output_type": "stream",
     "text": [
      "Testing logistic regression model on test set:\n",
      "0.7333333333333333\n",
      "Testing ridge regression model on test set:\n",
      "0.240342707060625\n",
      "Testing lasso regression model on test set:\n",
      "-0.04233763862142248\n"
     ]
    }
   ],
   "source": [
    "print('Testing logistic regression model on test set:')\n",
    "print(logregl2.score(x_test, y_test))\n",
    "print('Testing ridge regression model on test set:')\n",
    "print(ridgereg.score(x_test, y_test))\n",
    "print('Testing lasso regression model on test set:')\n",
    "print(lassoreg.score(x_test, y_test))"
   ]
  },
  {
   "cell_type": "markdown",
   "metadata": {},
   "source": [
    "So, the logistic regression model worked best. The R^2 values for the ridge and lasso models make me think I used the wrong model. I think because the target outcome was binary, not a continuous value."
   ]
  },
  {
   "cell_type": "code",
   "execution_count": null,
   "metadata": {},
   "outputs": [],
   "source": []
  }
 ],
 "metadata": {
  "kernelspec": {
   "display_name": "Python 3",
   "language": "python",
   "name": "python3"
  },
  "language_info": {
   "codemirror_mode": {
    "name": "ipython",
    "version": 3
   },
   "file_extension": ".py",
   "mimetype": "text/x-python",
   "name": "python",
   "nbconvert_exporter": "python",
   "pygments_lexer": "ipython3",
   "version": "3.6.5"
  }
 },
 "nbformat": 4,
 "nbformat_minor": 2
}
