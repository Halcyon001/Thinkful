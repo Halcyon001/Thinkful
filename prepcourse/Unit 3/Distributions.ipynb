{
 "cells": [
  {
   "cell_type": "code",
   "execution_count": 2,
   "metadata": {},
   "outputs": [],
   "source": [
    "import numpy as np\n",
    "import pandas as pd\n",
    "import matplotlib.pyplot as plt\n",
    "%matplotlib inline"
   ]
  },
  {
   "cell_type": "markdown",
   "metadata": {},
   "source": [
    "For each distribution:\n",
    "1 Generate 100 datapoints of the variable\n",
    "2 graph the variable on a histogram\n",
    "3 compute and plot the mean and standard deviation as vertical lines on said histogram\n",
    "4 evaluate whether these statistics provided useful information about the variable\n",
    "(and look for patterns across different kinds of distributions with regard to objective 4)"
   ]
  },
  {
   "cell_type": "code",
   "execution_count": 14,
   "metadata": {},
   "outputs": [],
   "source": [
    "def plotvitals(dataset):\n",
    "    plt.axvline(dataset.mean(), color='b', linewidth='2')\n",
    "    plt.axvline(dataset.mean() + dataset.std(), color='r', linewidth='2')\n",
    "    plt.axvline(dataset.mean() - dataset.std(), color='r', linewidth='2')\n",
    "    print('Mean: ' + str(dataset.mean()))\n",
    "    print('Standard Deviation ' + str(dataset.std()))"
   ]
  },
  {
   "cell_type": "code",
   "execution_count": 15,
   "metadata": {},
   "outputs": [
    {
     "name": "stdout",
     "output_type": "stream",
     "text": [
      "Mean: 0.57\n",
      "Standard Deviation 0.4950757517794625\n"
     ]
    },
    {
     "data": {
      "image/png": "[encoded data removed]",
      "text/plain": [
       "<matplotlib.figure.Figure at 0xf966790>"
      ]
     },
     "metadata": {},
     "output_type": "display_data"
    }
   ],
   "source": [
    "#distribution 1: bernoulli\n",
    "\n",
    "coinflips = np.random.binomial(1, .5, 100)\n",
    "\n",
    "plt.hist(coinflips)\n",
    "plotvitals(coinflips)\n",
    "\n",
    "plt.show()"
   ]
  },
  {
   "cell_type": "markdown",
   "metadata": {},
   "source": [
    "In the case of the Bernoulli distribution, the mean nor the standard deviation tell us anything because of the fact that it is a Bernoulli distribution, which means the datapoints will either be 0s or 1s."
   ]
  },
  {
   "cell_type": "code",
   "execution_count": 16,
   "metadata": {},
   "outputs": [
    {
     "name": "stdout",
     "output_type": "stream",
     "text": [
      "Mean: 53.161505460267165\n",
      "Standard Deviation 27.065589575934958\n"
     ]
    },
    {
     "data": {
      "image/png": "[encoded data removed]",
      "text/plain": [
       "<matplotlib.figure.Figure at 0xfcfbcb0>"
      ]
     },
     "metadata": {},
     "output_type": "display_data"
    }
   ],
   "source": [
    "#distribution 2: normal\n",
    "\n",
    "normal = np.random.normal(50, 25, 100)\n",
    "\n",
    "plt.hist(normal)\n",
    "plotvitals(normal)\n",
    "\n",
    "plt.show()"
   ]
  },
  {
   "cell_type": "markdown",
   "metadata": {},
   "source": [
    "In the case of a normal distribution the mean and standard deviation are extremely useful for describing the data because a normal distribution is defined by its mean and standard deviation. They give us an accurate picture of where the data is located"
   ]
  },
  {
   "cell_type": "code",
   "execution_count": 26,
   "metadata": {},
   "outputs": [
    {
     "name": "stdout",
     "output_type": "stream",
     "text": [
      "Mean: 0.805584349012486\n",
      "Standard Deviation 0.15220738475153936\n"
     ]
    },
    {
     "data": {
      "image/png": "[encoded data removed]",
      "text/plain": [
       "<matplotlib.figure.Figure at 0xf615550>"
      ]
     },
     "metadata": {},
     "output_type": "display_data"
    }
   ],
   "source": [
    "#distribution 3: power\n",
    "\n",
    "powerdist = np.random.power(5, 100)\n",
    "\n",
    "plt.hist(powerdist)\n",
    "plotvitals(powerdist)\n",
    "plt.show()"
   ]
  },
  {
   "cell_type": "markdown",
   "metadata": {},
   "source": [
    "For a power distribution the mean isn't too bad of an approximation, since most of the data is close to it, it looks like, i guess, but any power distribution is between 0 and 1, so maybe this is a big standard deviation for a power series. I'm not familiar enough with them to have a sense of how significant it is."
   ]
  },
  {
   "cell_type": "code",
   "execution_count": 34,
   "metadata": {},
   "outputs": [
    {
     "name": "stdout",
     "output_type": "stream",
     "text": [
      "Mean: 246.57141189378527\n",
      "Standard Deviation 32.12476436498814\n"
     ]
    },
    {
     "data": {
      "image/png": "[encoded data removed]",
      "text/plain": [
       "<matplotlib.figure.Figure at 0xf6fa650>"
      ]
     },
     "metadata": {},
     "output_type": "display_data"
    }
   ],
   "source": [
    "#distribution 4: gamma\n",
    "\n",
    "gamma = np.random.gamma(50, 5, 100)\n",
    "\n",
    "plt.hist(gamma)\n",
    "plotvitals(gamma)\n",
    "plt.show()"
   ]
  },
  {
   "cell_type": "markdown",
   "metadata": {},
   "source": [
    "The mean and standard deviation seem to be useful in this case, since like in a normal distribution, most of the data is centered around the mean. "
   ]
  },
  {
   "cell_type": "code",
   "execution_count": 38,
   "metadata": {},
   "outputs": [
    {
     "name": "stdout",
     "output_type": "stream",
     "text": [
      "Mean: 4.04\n",
      "Standard Deviation 3.43196736581221\n"
     ]
    },
    {
     "data": {
      "image/png": "[encoded data removed]",
      "text/plain": [
       "<matplotlib.figure.Figure at 0xfa4b9d0>"
      ]
     },
     "metadata": {},
     "output_type": "display_data"
    }
   ],
   "source": [
    "#distribution 5: geometric\n",
    "\n",
    "geo = np.random.geometric(.25, 100)\n",
    "\n",
    "plt.hist(geo)\n",
    "plotvitals(geo)\n",
    "plt.show()"
   ]
  },
  {
   "cell_type": "markdown",
   "metadata": {},
   "source": [
    "The mean and standard deviation aren't that great indicators of the data in this set because the data points are not distributed normally, it's very skewed toward the left side"
   ]
  },
  {
   "cell_type": "code",
   "execution_count": 52,
   "metadata": {},
   "outputs": [
    {
     "name": "stdout",
     "output_type": "stream",
     "text": [
      "Mean: 23.390034562311175\n",
      "Standard Deviation 21.236533612530692\n"
     ]
    },
    {
     "data": {
      "image/png": "[encoded data removed]",
      "text/plain": [
       "<matplotlib.figure.Figure at 0x140b6370>"
      ]
     },
     "metadata": {},
     "output_type": "display_data"
    }
   ],
   "source": [
    "#distribution 6: exponential\n",
    "\n",
    "expo = np.random.exponential(25, 100)\n",
    "\n",
    "plt.hist(expo)\n",
    "plotvitals(expo)\n",
    "plt.show()"
   ]
  },
  {
   "cell_type": "markdown",
   "metadata": {},
   "source": [
    "The mean and standard deviation don't really tell the full story, even tho most of the data is centered around the mean. The data is concentrated on the edge of the distribution, rather than in the center, so the mean is less useful for describing this dataset"
   ]
  },
  {
   "cell_type": "markdown",
   "metadata": {},
   "source": [
    "1 Generate two normally-distributed variables, one with a mean of 5 and standard deviation of 0.5, and the other with a mean of 10 and standard deviation of 1.\n",
    "2 Add them together to create a third variable.\n",
    "3 Graph the third variable using a histogram.\n",
    "4 Compute the mean and standard deviation and plot them as vertical lines on the histogram.\n",
    "5 Evaluate the descriptive statistics against the data."
   ]
  },
  {
   "cell_type": "code",
   "execution_count": 70,
   "metadata": {},
   "outputs": [
    {
     "name": "stdout",
     "output_type": "stream",
     "text": [
      "Mean: 14.845980962711591\n",
      "Standard Deviation 1.09896915343496\n"
     ]
    },
    {
     "data": {
      "image/png": "[encoded data removed]",
      "text/plain": [
       "<matplotlib.figure.Figure at 0x14054230>"
      ]
     },
     "metadata": {},
     "output_type": "display_data"
    }
   ],
   "source": [
    "norm1 = np.random.normal(5, .5, 100)\n",
    "norm2 = np.random.normal(10, 1, 100)\n",
    "norm3 = norm1 + norm2\n",
    "\n",
    "plt.hist(norm3)\n",
    "plotvitals(norm3)\n",
    "plt.show()"
   ]
  },
  {
   "cell_type": "markdown",
   "metadata": {},
   "source": [
    "It looks like just adding the data sets together added each nth datapoint together. i.e. given random normal sets x and y with individual elements xsubi and ysubi, then the set z which is a sum of x and y is of the same size as both x and y and each element zsubi = xsubi + ysubi. As opposed to a set of size size(x) + size(y) including all the elements from x and y.\n",
    "\n",
    "In any case, the datapoints in the 3rd set look pretty normal from here. If you add normally distributed datapoints together, maybe the resulting sums are also distributed normally."
   ]
  },
  {
   "cell_type": "code",
   "execution_count": null,
   "metadata": {},
   "outputs": [],
   "source": []
  }
 ],
 "metadata": {
  "kernelspec": {
   "display_name": "Python 3",
   "language": "python",
   "name": "python3"
  },
  "language_info": {
   "codemirror_mode": {
    "name": "ipython",
    "version": 3
   },
   "file_extension": ".py",
   "mimetype": "text/x-python",
   "name": "python",
   "nbconvert_exporter": "python",
   "pygments_lexer": "ipython3",
   "version": "3.6.4"
  }
 },
 "nbformat": 4,
 "nbformat_minor": 2
}
